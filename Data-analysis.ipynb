{
 "cells": [
  {
   "cell_type": "markdown",
   "metadata": {},
   "source": [
    "# Analysis of Scarman house data"
   ]
  },
  {
   "cell_type": "code",
   "metadata": {
    "collapsed": false
   },
   "outputs": [],
   "source": [
    "import pandas as pd\n",
    "import seaborn as sns\n",
    "import matplotlib.pyplot as plt\n",
    "import numpy as np\n",
    "import calendar\n",
    "from pandas.tseries import offsets\n",
    "import os\n",
    "from datetime import date\n",
    "import holidays\n",
    "\n",
    "%matplotlib inline  \n",
    "\n",
    "blues = [x for x in reversed(sns.color_palette(\"Blues_d\", 11))]\n",
    "\n",
    "uk_hol= holidays.UK() #load UK holiday\n",
    "\n",
    "import sys\n",
    "sys.path.append(\"/Users/macintosh/Documents/OneDrive - Cardiff University/05 - Python/01 - Packages\")\n",
    "import Classes.regression as regression\n",
    "\n",
    "#http://www2.warwick.ac.uk/services/centraltimetabling/help/academicweeks/?acYear=201516"
   ]
  },
  {
   "cell_type": "code",
   "execution_count": null,
   "metadata": {
    "collapsed": true
   },
   "outputs": [],
   "source": []
  },
  {
   "cell_type": "code",
   "execution_count": 62,
   "metadata": {
    "collapsed": true
   },
   "outputs": [],
   "source": [
    "path = r'/Users/macintosh/Documents/OneDrive - Cardiff University/04 - Projects/02 - Warwick/04 - Data/'\n",
    "files = [\"ScarmanHouse_ElecEnergykWh.csv\", \"ScarmanHouse_HeatEnergykWh.csv\", \"ScarmanHouse_HeatFlowm3.csv\"]\n",
   ]
  },
  {
   "cell_type": "markdown",
   "metadata": {},
   "source": [
    "## Cleaning and preparing dataset"
   ]
  },
  {
   "cell_type": "code",
   "metadata": {
    "collapsed": true
   },
   "outputs": [],
   "source": [
    "def cleanAndPrepare(data, meterName):\n",
    "    data[\"Date\"]=data[\"Date\"] + \" \" +data[\"StartTime\"]\n",
    "    data[\"Date\"] = pd.to_datetime(data[\"Date\"], format=\"%d/%m/%Y %H:%M\")\n",
    "    data.set_index(\"Date\", drop=True, inplace=True)\n",
    "    data.drop([\"Meter\", \"Name\", \"SerialNumber\", \"Register\", \"StartTime\", \"Duration\", \"TotalValue\", \"Unit\"], axis=1, inplace=True)\n",
    "    data.columns = [meterName]"
   ]
  },
  {
   "cell_type": "code",
   "metadata": {
    "collapsed": false,
    "scrolled": true
   },
   "outputs": [
    {
     "name": "stdout",
     "output_type": "stream",
     "text": [
      "ScarmanHouse_ElecEnergykWh.csv has 0 missing data\n",
      "ScarmanHouse_HeatEnergykWh.csv has 0 missing data\n",
      "ScarmanHouse_HeatFlowm3.csv has 0 missing data\n"
     ]
    },
    {
     "data": {
      "text/html": [
       "<div>\n",
       "<table border=\"1\" class=\"dataframe\">\n",
       "  <thead>\n",
       "    <tr style=\"text-align: right;\">\n",
       "      <th></th>\n",
       "      <th>ScarmanHouse_ElecEnergykWh</th>\n",
       "      <th>ScarmanHouse_HeatEnergykWh</th>\n",
       "      <th>ScarmanHouse_HeatFlowm3</th>\n",
       "    </tr>\n",
       "  </thead>\n",
       "  <tbody>\n",
       "    <tr>\n",
       "      <th>2016-01-01 00:00:00</th>\n",
       "      <td>26.0</td>\n",
       "      <td>0.1</td>\n",
       "      <td>3.3</td>\n",
       "    </tr>\n",
       "    <tr>\n",
       "      <th>2016-01-01 00:30:00</th>\n",
       "      <td>27.0</td>\n",
       "      <td>0.2</td>\n",
       "      <td>3.2</td>\n",
       "    </tr>\n",
       "    <tr>\n",
       "      <th>2016-01-01 01:00:00</th>\n",
       "      <td>29.0</td>\n",
       "      <td>0.1</td>\n",
       "      <td>3.3</td>\n",
       "    </tr>\n",
       "    <tr>\n",
       "      <th>2016-01-01 01:30:00</th>\n",
       "      <td>29.0</td>\n",
       "      <td>0.1</td>\n",
       "      <td>3.2</td>\n",
       "    </tr>\n",
       "    <tr>\n",
       "      <th>2016-01-01 02:00:00</th>\n",
       "      <td>29.0</td>\n",
       "      <td>0.2</td>\n",
       "      <td>3.3</td>\n",
       "    </tr>\n",
       "  </tbody>\n",
       "</table>\n",
       "</div>"
      ],
      "text/plain": [
       "                     ScarmanHouse_ElecEnergykWh  ScarmanHouse_HeatEnergykWh  \\\n",
       "2016-01-01 00:00:00                        26.0                         0.1   \n",
       "2016-01-01 00:30:00                        27.0                         0.2   \n",
       "2016-01-01 01:00:00                        29.0                         0.1   \n",
       "2016-01-01 01:30:00                        29.0                         0.1   \n",
       "2016-01-01 02:00:00                        29.0                         0.2   \n",
       "\n",
       "                     ScarmanHouse_HeatFlowm3  \n",
       "2016-01-01 00:00:00                      3.3  \n",
       "2016-01-01 00:30:00                      3.2  \n",
       "2016-01-01 01:00:00                      3.3  \n",
       "2016-01-01 01:30:00                      3.2  \n",
       "2016-01-01 02:00:00                      3.3  "
      ]
     },
     "metadata": {},
     "output_type": "execute_result"
    }
   ],
   "source": [
    "frames = []\n",
    "\n",
    "for filename in files:\n",
    "    data = pd.read_csv(path+filename)\n",
    "    meterName = filename.split(\".csv\")[0]\n",
    "    cleanAndPrepare(data, meterName)\n",
    "    print(filename + \" has \" + '{:d}'.format(data[meterName].isnull().sum()) + \" missing data\")\n",
    "    frames.append(data)\n",
    "    \n",
    "result = pd.concat(frames,axis=1)\n",
    "result.set_index(pd.date_range(start=result.index[0], end=result.index[-1], freq='30T' ), inplace=True)\n",
    "result.head()"
   ]
  },
  {
   "cell_type": "markdown",
   "metadata": {},
   "source": [
    "## Add temperature data to the dataset"
   ]
  },
  {
   "cell_type": "code",
   "metadata": {
    "collapsed": false
   },
   "outputs": [],
   "source": [
    "temperature = pd.read_excel(path+drivers)\n",
    "temperature.head()\n",
    "temperature.fillna(method=\"ffill\", inplace=True) #Fill gaps in data with previous\n",
    "\n",
    "temperature[temperature.columns[0]] = pd.to_datetime(temperature[temperature.columns[0]], format=\"%Y-%m-%d %H:%M:%S\")\n",
    "temperature.head()\n",
    "temperature.set_index(temperature.columns[0], drop=True, inplace=True)\n",
    "\n",
    "temperature = temperature.resample('30T').mean()\n",
    "temperature = temperature.interpolate('time')\n",
    "temperature.fillna(method=\"ffill\", inplace=True)\n",
    "result = result.join(temperature)"
   ]
  },
  {
   "cell_type": "markdown",
   "metadata": {},
   "source": [
    "## Verifiy integrity of the dataset"
   ]
  },
  {
   "cell_type": "code",
   "metadata": {
    "collapsed": false
   },
   "outputs": [
    {
     "name": "stdout",
     "output_type": "stream",
     "text": [
     ]
    }
   ],
   "source": [
    "numberOfValues = 365*48\n",
    "if not result.index.year[0]%4:\n",
    "    numberOfValues = 366*48\n",
    "print(\"dataset is \" + '{0:.2f}%'.format(result.shape[0]/numberOfValues*100) + \" complete\")"
   ]
  },
  {
   "cell_type": "code",
   "metadata": {
    "collapsed": false
   },
   "outputs": [
    {
     "data": {
      "text/html": [
       "<div>\n",
       "<table border=\"1\" class=\"dataframe\">\n",
       "  <thead>\n",
       "    <tr style=\"text-align: right;\">\n",
       "      <th></th>\n",
       "      <th>Electricity</th>\n",
       "      <th>Heat</th>\n",
       "      <th>HeatFlow</th>\n",
       "      <th>Temperature</th>\n",
       "    </tr>\n",
       "  </thead>\n",
       "  <tbody>\n",
       "    <tr>\n",
       "      <th>2016-01-01 00:00:00</th>\n",
       "      <td>26.0</td>\n",
       "      <td>0.1</td>\n",
       "      <td>3.3</td>\n",
       "      <td>2.7300</td>\n",
       "    </tr>\n",
       "    <tr>\n",
       "      <th>2016-01-01 00:30:00</th>\n",
       "      <td>27.0</td>\n",
       "      <td>0.2</td>\n",
       "      <td>3.2</td>\n",
       "      <td>2.6400</td>\n",
       "    </tr>\n",
       "    <tr>\n",
       "      <th>2016-01-01 01:00:00</th>\n",
       "      <td>29.0</td>\n",
       "      <td>0.1</td>\n",
       "      <td>3.3</td>\n",
       "      <td>2.5500</td>\n",
       "    </tr>\n",
       "    <tr>\n",
       "      <th>2016-01-01 01:30:00</th>\n",
       "      <td>29.0</td>\n",
       "      <td>0.1</td>\n",
       "      <td>3.2</td>\n",
       "      <td>1.5425</td>\n",
       "    </tr>\n",
       "    <tr>\n",
       "      <th>2016-01-01 02:00:00</th>\n",
       "      <td>29.0</td>\n",
       "      <td>0.2</td>\n",
       "      <td>3.3</td>\n",
       "      <td>0.5350</td>\n",
       "    </tr>\n",
       "  </tbody>\n",
       "</table>\n",
       "</div>"
      ],
      "text/plain": [
       "                     Electricity  Heat  HeatFlow  Temperature\n",
       "2016-01-01 00:00:00         26.0   0.1       3.3       2.7300\n",
       "2016-01-01 00:30:00         27.0   0.2       3.2       2.6400\n",
       "2016-01-01 01:00:00         29.0   0.1       3.3       2.5500\n",
       "2016-01-01 01:30:00         29.0   0.1       3.2       1.5425\n",
       "2016-01-01 02:00:00         29.0   0.2       3.3       0.5350"
      ]
     },
     "metadata": {},
     "output_type": "execute_result"
    }
   ],
   "source": [
    "result.columns = [\"Electricity\", \"Heat\", \"HeatFlow\", \"Temperature\"]\n",
    "result.head()"
   ]
  },
  {
   "cell_type": "code",
   "metadata": {
    "collapsed": false
   },
   "outputs": [
    {
     "data": {
      "text/html": [
       "<div>\n",
       "<table border=\"1\" class=\"dataframe\">\n",
       "  <thead>\n",
       "    <tr style=\"text-align: right;\">\n",
       "      <th></th>\n",
       "      <th>Electricity</th>\n",
       "      <th>Heat</th>\n",
       "      <th>HeatFlow</th>\n",
       "      <th>Temperature</th>\n",
       "      <th>Hour</th>\n",
       "      <th>DayOfWeek_name</th>\n",
       "      <th>DayOfWeek</th>\n",
       "      <th>Month</th>\n",
       "      <th>Weekday</th>\n",
       "      <th>HH</th>\n",
       "      <th>Holiday</th>\n",
       "      <th>Date</th>\n",
       "      <th>Week</th>\n",
       "      <th>Season</th>\n",
       "      <th>Season num</th>\n",
       "    </tr>\n",
       "  </thead>\n",
       "  <tbody>\n",
       "    <tr>\n",
       "      <th>2016-01-01 00:00:00</th>\n",
       "      <td>26.0</td>\n",
       "      <td>0.1</td>\n",
       "      <td>3.3</td>\n",
       "      <td>2.7300</td>\n",
       "      <td>0</td>\n",
       "      <td>Friday</td>\n",
       "      <td>4</td>\n",
       "      <td>1</td>\n",
       "      <td>1</td>\n",
       "      <td>0</td>\n",
       "      <td>1</td>\n",
       "      <td>2016-01-01</td>\n",
       "      <td>53</td>\n",
       "      <td>Winter</td>\n",
       "      <td>1</td>\n",
       "    </tr>\n",
       "    <tr>\n",
       "      <th>2016-01-01 00:30:00</th>\n",
       "      <td>27.0</td>\n",
       "      <td>0.2</td>\n",
       "      <td>3.2</td>\n",
       "      <td>2.6400</td>\n",
       "      <td>0</td>\n",
       "      <td>Friday</td>\n",
       "      <td>4</td>\n",
       "      <td>1</td>\n",
       "      <td>1</td>\n",
       "      <td>1</td>\n",
       "      <td>1</td>\n",
       "      <td>2016-01-01</td>\n",
       "      <td>53</td>\n",
       "      <td>Winter</td>\n",
       "      <td>1</td>\n",
       "    </tr>\n",
       "    <tr>\n",
       "      <th>2016-01-01 01:00:00</th>\n",
       "      <td>29.0</td>\n",
       "      <td>0.1</td>\n",
       "      <td>3.3</td>\n",
       "      <td>2.5500</td>\n",
       "      <td>1</td>\n",
       "      <td>Friday</td>\n",
       "      <td>4</td>\n",
       "      <td>1</td>\n",
       "      <td>1</td>\n",
       "      <td>2</td>\n",
       "      <td>1</td>\n",
       "      <td>2016-01-01</td>\n",
       "      <td>53</td>\n",
       "      <td>Winter</td>\n",
       "      <td>1</td>\n",
       "    </tr>\n",
       "    <tr>\n",
       "      <th>2016-01-01 01:30:00</th>\n",
       "      <td>29.0</td>\n",
       "      <td>0.1</td>\n",
       "      <td>3.2</td>\n",
       "      <td>1.5425</td>\n",
       "      <td>1</td>\n",
       "      <td>Friday</td>\n",
       "      <td>4</td>\n",
       "      <td>1</td>\n",
       "      <td>1</td>\n",
       "      <td>3</td>\n",
       "      <td>1</td>\n",
       "      <td>2016-01-01</td>\n",
       "      <td>53</td>\n",
       "      <td>Winter</td>\n",
       "      <td>1</td>\n",
       "    </tr>\n",
       "    <tr>\n",
       "      <th>2016-01-01 02:00:00</th>\n",
       "      <td>29.0</td>\n",
       "      <td>0.2</td>\n",
       "      <td>3.3</td>\n",
       "      <td>0.5350</td>\n",
       "      <td>2</td>\n",
       "      <td>Friday</td>\n",
       "      <td>4</td>\n",
       "      <td>1</td>\n",
       "      <td>1</td>\n",
       "      <td>4</td>\n",
       "      <td>1</td>\n",
       "      <td>2016-01-01</td>\n",
       "      <td>53</td>\n",
       "      <td>Winter</td>\n",
       "      <td>1</td>\n",
       "    </tr>\n",
       "  </tbody>\n",
       "</table>\n",
       "</div>"
      ],
      "text/plain": [
       "                     Electricity  Heat  HeatFlow  Temperature  Hour  \\\n",
       "2016-01-01 00:00:00         26.0   0.1       3.3       2.7300     0   \n",
       "2016-01-01 00:30:00         27.0   0.2       3.2       2.6400     0   \n",
       "2016-01-01 01:00:00         29.0   0.1       3.3       2.5500     1   \n",
       "2016-01-01 01:30:00         29.0   0.1       3.2       1.5425     1   \n",
       "2016-01-01 02:00:00         29.0   0.2       3.3       0.5350     2   \n",
       "\n",
       "                    DayOfWeek_name  DayOfWeek  Month  Weekday  HH  Holiday  \\\n",
       "2016-01-01 00:00:00         Friday          4      1        1   0        1   \n",
       "2016-01-01 00:30:00         Friday          4      1        1   1        1   \n",
       "2016-01-01 01:00:00         Friday          4      1        1   2        1   \n",
       "2016-01-01 01:30:00         Friday          4      1        1   3        1   \n",
       "2016-01-01 02:00:00         Friday          4      1        1   4        1   \n",
       "\n",
       "                           Date  Week  Season  Season num  \n",
       "2016-01-01 00:00:00  2016-01-01    53  Winter           1  \n",
       "2016-01-01 00:30:00  2016-01-01    53  Winter           1  \n",
       "2016-01-01 01:00:00  2016-01-01    53  Winter           1  \n",
       "2016-01-01 01:30:00  2016-01-01    53  Winter           1  \n",
       "2016-01-01 02:00:00  2016-01-01    53  Winter           1  "
      ]
     },
     "metadata": {},
     "output_type": "execute_result"
    }
   ],
   "source": [
    "result[\"Hour\"] = result.index.hour\n",
    "result[\"DayOfWeek_name\"]= [calendar.day_name[x] for x in result.index.dayofweek]\n",
    "result[\"DayOfWeek\"]= result.index.dayofweek\n",
    "result[\"Month\"] = result.index.month\n",
    "result[\"Weekday\"] = [1 if x<5 else 0 for x in result.index.dayofweek]\n",
    "result[\"HH\"] = [x%48 for x in range(0, result.shape[0], 1) ]\n",
    "result[\"Holiday\"]= [1 if x.date() in uk_hol else 0 for x in result.index]\n",
    "result[\"Date\"] = result.index.date\n",
    "result[\"Week\"] = result.index.week\n",
    "\n",
    "def get_season(row):\n",
    "    if row['Month'] >= 3 and row['Month'] <= 5:\n",
    "        return 'Spring'\n",
    "    elif row['Month'] >= 6 and row['Month'] <= 8:\n",
    "        return 'Summer'\n",
    "    elif row['Month'] >= 9 and row['Month'] <= 11:\n",
    "        return 'Autumn'\n",
    "    else:\n",
    "        return 'Winter'\n",
    "\n",
    "season_dict = {\"Winter\":1, \"Spring\":2, \"Summer\":3, \"Autumn\":4}\n",
    "inv_season_dict = {v: k for k, v in season_dict.items()}\n",
    "result['Season'] = result.apply(get_season, axis=1)\n",
    "result['Season num'] = result['Season']\n",
    "result.replace({\"Season num\":season_dict}, inplace=True)\n",
    "result.head()"
   ]
  },
  {
   "cell_type": "markdown",
   "metadata": {},
   "source": [
    "## Overview of the data at half-hourly resolution"
   ]
  },
  {
   "cell_type": "markdown",
   "metadata": {},
   "source": [
    "Using half-hourly resolution, there are issues around the continuity of the data as well as the possible time delay of the system reaction. For instance, the heatflow may not be at the expected temperature at every given time.\n",
    "\n",
    "It is still possible to predict linear relation between heat, heat flow and temperature but it will become clearer at daily resolution."
   ]
  },
  {
   "cell_type": "code",
   "metadata": {
    "collapsed": false
   },
   "outputs": [
    {
    },
    {
     "data": {
      "text/plain": [
      ]
     },
     "metadata": {},
     "output_type": "display_data"
    }
   ],
   "source": [
   ]
  },
  {
   "cell_type": "markdown",
   "metadata": {},
   "source": [
    "## Overview of the data at daily resolution"
   ]
  },
  {
   "cell_type": "code",
   "metadata": {
    "collapsed": false
   },
   "outputs": [],
   "source": [
    "daily_data = result.resample(\"d\").agg({\"Heat\": np.sum,\"Electricity\": np.sum,\"HeatFlow\": np.sum, \"Temperature\":np.mean, \"Season num\":np.mean})"
   ]
  },
  {
   "cell_type": "code",
   "metadata": {
    "collapsed": false,
    "scrolled": true
   },
   "outputs": [
    {
     "data": {
      "text/plain": [
      ]
     },
     "metadata": {},
     "output_type": "display_data"
    }
   ],
   "source": [
    "result.fillna(-1, inplace=True)\n",
    "daily_data.replace({\"Season num\":inv_season_dict}, inplace=True)\n",
   ]
  },
  {
   "cell_type": "markdown",
   "metadata": {},
   "source": [
    "The main points are: \n",
    "-low heat demand during summer time, \n",
    "-higher electricity demand in autumn,\n",
    "-linear regression between heat and heat flow\n",
    "-linear regression between heat/heat flow and temperature until change point is reached (~15C)\n",
    "-low heat network utilisation during summer time\n"
   ]
  },
  {
   "cell_type": "markdown",
   "metadata": {},
   "source": [
    "# Electricity"
   ]
  },
  {
   "cell_type": "markdown",
   "metadata": {},
   "source": [
    "## Annual consumption"
   ]
  },
  {
   "cell_type": "code",
   "metadata": {
    "collapsed": false
   },
   "outputs": [
    {
     "data": {
      "text/plain": [
      ]
     },
     "metadata": {},
     "output_type": "display_data"
    }
   ],
   "source": [
    "fig, ax = plt.subplots(figsize=(14, 6))\n",
    "result[\"Electricity\"].resample('d').sum().plot(ax=fig.gca())\n",
    "ax.set_xlabel(\"Date\")\n",
   ]
  },
  {
   "cell_type": "markdown",
   "metadata": {
    "collapsed": false
   },
   "source": [
    "## HH consumption for the average week by season "
   ]
  },
  {
   "cell_type": "markdown",
   "metadata": {},
   "source": [
    "Based on the graph below, we could split our analysis in two: the first cluster would be the Autumn data and the "
   ]
  },
  {
   "cell_type": "code",
   "metadata": {
    "collapsed": false
   },
   "outputs": [
    {
     "data": {
      "text/html": [
       "<div>\n",
       "<table border=\"1\" class=\"dataframe\">\n",
       "  <thead>\n",
       "    <tr>\n",
       "      <th></th>\n",
       "      <th colspan=\"4\" halign=\"left\">DayOfWeek_name</th>\n",
       "      <th colspan=\"4\" halign=\"left\">HH</th>\n",
       "      <th colspan=\"2\" halign=\"left\">Electricity</th>\n",
       "      <th>...</th>\n",
       "      <th colspan=\"2\" halign=\"left\">Holiday</th>\n",
       "      <th colspan=\"4\" halign=\"left\">Week</th>\n",
       "      <th colspan=\"4\" halign=\"left\">Season num</th>\n",
       "    </tr>\n",
       "    <tr>\n",
       "      <th>Season</th>\n",
       "      <th>Autumn</th>\n",
       "      <th>Spring</th>\n",
       "      <th>Summer</th>\n",
       "      <th>Winter</th>\n",
       "      <th>Autumn</th>\n",
       "      <th>Spring</th>\n",
       "      <th>Summer</th>\n",
       "      <th>Winter</th>\n",
       "      <th>Autumn</th>\n",
       "      <th>Spring</th>\n",
       "      <th>...</th>\n",
       "      <th>Summer</th>\n",
       "      <th>Winter</th>\n",
       "      <th>Autumn</th>\n",
       "      <th>Spring</th>\n",
       "      <th>Summer</th>\n",
       "      <th>Winter</th>\n",
       "      <th>Autumn</th>\n",
       "      <th>Spring</th>\n",
       "      <th>Summer</th>\n",
       "      <th>Winter</th>\n",
       "    </tr>\n",
       "    <tr>\n",
       "      <th>(DayOfWeek_name, Autumn)</th>\n",
       "      <th></th>\n",
       "      <th></th>\n",
       "      <th></th>\n",
       "      <th></th>\n",
       "      <th></th>\n",
       "      <th></th>\n",
       "      <th></th>\n",
       "      <th></th>\n",
       "      <th></th>\n",
       "      <th></th>\n",
       "      <th></th>\n",
       "      <th></th>\n",
       "      <th></th>\n",
       "      <th></th>\n",
       "      <th></th>\n",
       "      <th></th>\n",
       "      <th></th>\n",
       "      <th></th>\n",
       "      <th></th>\n",
       "      <th></th>\n",
       "      <th></th>\n",
       "    </tr>\n",
       "  </thead>\n",
       "  <tbody>\n",
       "    <tr>\n",
       "      <th>Monday</th>\n",
       "      <td>Monday</td>\n",
       "      <td>Monday</td>\n",
       "      <td>Monday</td>\n",
       "      <td>Monday</td>\n",
       "      <td>0</td>\n",
       "      <td>0</td>\n",
       "      <td>0</td>\n",
       "      <td>0</td>\n",
       "      <td>44.153846</td>\n",
       "      <td>38.692308</td>\n",
       "      <td>...</td>\n",
       "      <td>0.153846</td>\n",
       "      <td>0.153846</td>\n",
       "      <td>42.0</td>\n",
       "      <td>16.0</td>\n",
       "      <td>29.0</td>\n",
       "      <td>19.0</td>\n",
       "      <td>4.0</td>\n",
       "      <td>2.0</td>\n",
       "      <td>3.0</td>\n",
       "      <td>1.0</td>\n",
       "    </tr>\n",
       "    <tr>\n",
       "      <th>Monday</th>\n",
       "      <td>Monday</td>\n",
       "      <td>Monday</td>\n",
       "      <td>Monday</td>\n",
       "      <td>Monday</td>\n",
       "      <td>1</td>\n",
       "      <td>1</td>\n",
       "      <td>1</td>\n",
       "      <td>1</td>\n",
       "      <td>43.230769</td>\n",
       "      <td>37.846154</td>\n",
       "      <td>...</td>\n",
       "      <td>0.153846</td>\n",
       "      <td>0.153846</td>\n",
       "      <td>42.0</td>\n",
       "      <td>16.0</td>\n",
       "      <td>29.0</td>\n",
       "      <td>19.0</td>\n",
       "      <td>4.0</td>\n",
       "      <td>2.0</td>\n",
       "      <td>3.0</td>\n",
       "      <td>1.0</td>\n",
       "    </tr>\n",
       "    <tr>\n",
       "      <th>Monday</th>\n",
       "      <td>Monday</td>\n",
       "      <td>Monday</td>\n",
       "      <td>Monday</td>\n",
       "      <td>Monday</td>\n",
       "      <td>2</td>\n",
       "      <td>2</td>\n",
       "      <td>2</td>\n",
       "      <td>2</td>\n",
       "      <td>42.000000</td>\n",
       "      <td>37.461538</td>\n",
       "      <td>...</td>\n",
       "      <td>0.153846</td>\n",
       "      <td>0.153846</td>\n",
       "      <td>42.0</td>\n",
       "      <td>16.0</td>\n",
       "      <td>29.0</td>\n",
       "      <td>19.0</td>\n",
       "      <td>4.0</td>\n",
       "      <td>2.0</td>\n",
       "      <td>3.0</td>\n",
       "      <td>1.0</td>\n",
       "    </tr>\n",
       "    <tr>\n",
       "      <th>Monday</th>\n",
       "      <td>Monday</td>\n",
       "      <td>Monday</td>\n",
       "      <td>Monday</td>\n",
       "      <td>Monday</td>\n",
       "      <td>3</td>\n",
       "      <td>3</td>\n",
       "      <td>3</td>\n",
       "      <td>3</td>\n",
       "      <td>41.307692</td>\n",
       "      <td>37.153846</td>\n",
       "      <td>...</td>\n",
       "      <td>0.153846</td>\n",
       "      <td>0.153846</td>\n",
       "      <td>42.0</td>\n",
       "      <td>16.0</td>\n",
       "      <td>29.0</td>\n",
       "      <td>19.0</td>\n",
       "      <td>4.0</td>\n",
       "      <td>2.0</td>\n",
       "      <td>3.0</td>\n",
       "      <td>1.0</td>\n",
       "    </tr>\n",
       "    <tr>\n",
       "      <th>Monday</th>\n",
       "      <td>Monday</td>\n",
       "      <td>Monday</td>\n",
       "      <td>Monday</td>\n",
       "      <td>Monday</td>\n",
       "      <td>4</td>\n",
       "      <td>4</td>\n",
       "      <td>4</td>\n",
       "      <td>4</td>\n",
       "      <td>40.692308</td>\n",
       "      <td>38.000000</td>\n",
       "      <td>...</td>\n",
       "      <td>0.153846</td>\n",
       "      <td>0.153846</td>\n",
       "      <td>42.0</td>\n",
       "      <td>16.0</td>\n",
       "      <td>29.0</td>\n",
       "      <td>19.0</td>\n",
       "      <td>4.0</td>\n",
       "      <td>2.0</td>\n",
       "      <td>3.0</td>\n",
       "      <td>1.0</td>\n",
       "    </tr>\n",
       "  </tbody>\n",
       "</table>\n",
       "<p>5 rows × 52 columns</p>\n",
       "</div>"
      ],
      "text/plain": [
       "                         DayOfWeek_name                             HH         \\\n",
       "Season                           Autumn  Spring  Summer  Winter Autumn Spring   \n",
       "(DayOfWeek_name, Autumn)                                                        \n",
       "Monday                           Monday  Monday  Monday  Monday      0      0   \n",
       "Monday                           Monday  Monday  Monday  Monday      1      1   \n",
       "Monday                           Monday  Monday  Monday  Monday      2      2   \n",
       "Monday                           Monday  Monday  Monday  Monday      3      3   \n",
       "Monday                           Monday  Monday  Monday  Monday      4      4   \n",
       "\n",
       "                                       Electricity             ...    \\\n",
       "Season                   Summer Winter      Autumn     Spring  ...     \n",
       "(DayOfWeek_name, Autumn)                                       ...     \n",
       "Monday                        0      0   44.153846  38.692308  ...     \n",
       "Monday                        1      1   43.230769  37.846154  ...     \n",
       "Monday                        2      2   42.000000  37.461538  ...     \n",
       "Monday                        3      3   41.307692  37.153846  ...     \n",
       "Monday                        4      4   40.692308  38.000000  ...     \n",
       "\n",
       "                           Holiday             Week                       \\\n",
       "Season                      Summer    Winter Autumn Spring Summer Winter   \n",
       "(DayOfWeek_name, Autumn)                                                   \n",
       "Monday                    0.153846  0.153846   42.0   16.0   29.0   19.0   \n",
       "Monday                    0.153846  0.153846   42.0   16.0   29.0   19.0   \n",
       "Monday                    0.153846  0.153846   42.0   16.0   29.0   19.0   \n",
       "Monday                    0.153846  0.153846   42.0   16.0   29.0   19.0   \n",
       "Monday                    0.153846  0.153846   42.0   16.0   29.0   19.0   \n",
       "\n",
       "                         Season num                       \n",
       "Season                       Autumn Spring Summer Winter  \n",
       "(DayOfWeek_name, Autumn)                                  \n",
       "Monday                          4.0    2.0    3.0    1.0  \n",
       "Monday                          4.0    2.0    3.0    1.0  \n",
       "Monday                          4.0    2.0    3.0    1.0  \n",
       "Monday                          4.0    2.0    3.0    1.0  \n",
       "Monday                          4.0    2.0    3.0    1.0  \n",
       "\n",
       "[5 rows x 52 columns]"
      ]
     },
     "metadata": {},
     "output_type": "execute_result"
    }
   ],
   "source": [
    "averageWeekbyHH = result.groupby([\"DayOfWeek_name\", \"HH\", \"Season\"]).mean().reset_index()\n",
    "averageWeekbyHH[\"index\"]= averageWeekbyHH[\"DayOfWeek\"] + averageWeekbyHH[\"HH\"]/100#averageWeekbyHH[\"DayOfWeek\"].map(str) + \" \" + averageWeekbyHH[\"HH\"].map(str)\n",
    "averageWeekbyHH.set_index([\"index\", \"Season\"], inplace=True)\n",
    "averageWeekbyHH.sort_values([\"DayOfWeek\", \"HH\"], inplace=True)\n",
    "df = averageWeekbyHH.unstack(\"Season\")\n",
    "df.set_index(df[\"DayOfWeek_name\", \"Autumn\"], inplace=True)\n",
    "df.head()"
   ]
  },
  {
   "cell_type": "code",
   "metadata": {
    "collapsed": false
   },
   "outputs": [],
   "source": [
    "daybyHH = result.groupby([\"Date\", \"HH\"]).mean()\n",
    "daybyHH=daybyHH.unstack(\"HH\").reset_index()\n",
    "daybyHH[\"Date\"]=pd.to_datetime(daybyHH[\"Date\"], format=\"%Y-%m-%d\")\n",
    "daybyHH.set_index(\"Date\", inplace=True, drop=True)"
   ]
  },
  {
   "cell_type": "code",
   "metadata": {
    "collapsed": false
   },
   "outputs": [],
   "source": [
    "from sklearn.cluster import KMeans\n",
    "from sklearn import metrics\n",
    "\n",
    "def cluster(values):\n",
    "    algorithm = \"elkan\"\n",
    "    min_silhouette_avg = 0.\n",
    "    cluster_centers=[]\n",
    "    cluster_labels=[]\n",
    "    for n_clusters in range(2, 17, 1):\n",
    "        kmeans = KMeans(n_clusters=n_clusters, random_state=10, algorithm=\"elkan\", n_init=30).fit(values)\n",
    "        labels_temp= kmeans.labels_\n",
    "        silhouette_avg = metrics.silhouette_score(values, labels_temp)\n",
    "        \n",
    "        silhouette_samples_values = metrics.silhouette_samples(values, labels_temp)\n",
    "        calinski_harabaz_score= metrics.calinski_harabaz_score(values, labels_temp)\n",
    "        nb_values_over = 0\n",
    "        print(\"cluster:\", n_clusters , \"silhouette score:\" ,silhouette_avg, \"calinski_harabaz:\",calinski_harabaz_score )\n",
    "        if min_silhouette_avg<silhouette_avg:\n",
    "            min_silhouette_avg=silhouette_avg\n",
    "            cluster_centers= kmeans.cluster_centers_\n",
    "            cluster_labels= labels_temp\n",
    "\n",
    "        for cluster in range(n_clusters):\n",
    "            cluster_values = silhouette_samples_values[cluster_labels==cluster]\n",
    "            nb_values_over = nb_values_over+ len(cluster_values[np.where(cluster_values>silhouette_avg)])\n",
    "        print(\"Number of values over average:\", nb_values_over, \"({:04.1f}%)\".format(nb_values_over/len(values)*100)) \n",
    "        \n",
    "    return cluster_centers.shape[0], cluster_centers, cluster_labels"
   ]
  },
  {
   "cell_type": "code",
   "metadata": {
    "collapsed": false
   },
   "outputs": [
    {
     "name": "stdout",
     "output_type": "stream",
     "text": [
      "cluster: 2 silhouette score: 0.559149563755 calinski_harabaz: 659.77892872\n",
      "Number of values over average: 256 (69.9%)\n",
      "cluster: 3 silhouette score: 0.402555621789 calinski_harabaz: 552.375099617\n",
      "Number of values over average: 202 (55.2%)\n",
      "cluster: 4 silhouette score: 0.330600226914 calinski_harabaz: 496.686611447\n",
      "Number of values over average: 174 (47.5%)\n",
      "cluster: 5 silhouette score: 0.287549664829 calinski_harabaz: 427.612160092\n",
      "Number of values over average: 168 (45.9%)\n",
      "cluster: 6 silhouette score: 0.28388734803 calinski_harabaz: 382.292000036\n",
      "Number of values over average: 160 (43.7%)\n",
      "cluster: 7 silhouette score: 0.262844176367 calinski_harabaz: 347.392909108\n",
      "Number of values over average: 175 (47.8%)\n",
      "cluster: 8 silhouette score: 0.257936144074 calinski_harabaz: 322.844477553\n",
      "Number of values over average: 176 (48.1%)\n",
      "cluster: 9 silhouette score: 0.249643087792 calinski_harabaz: 305.157633763\n",
      "Number of values over average: 173 (47.3%)\n",
      "cluster: 10 silhouette score: 0.244777786843 calinski_harabaz: 287.651620362\n",
      "Number of values over average: 173 (47.3%)\n",
      "cluster: 11 silhouette score: 0.238530818109 calinski_harabaz: 272.378591657\n",
      "Number of values over average: 168 (45.9%)\n",
      "cluster: 12 silhouette score: 0.23978157404 calinski_harabaz: 261.29175385\n",
      "Number of values over average: 169 (46.2%)\n",
      "cluster: 13 silhouette score: 0.227220915907 calinski_harabaz: 247.547400511\n",
      "Number of values over average: 166 (45.4%)\n",
      "cluster: 14 silhouette score: 0.228417393332 calinski_harabaz: 235.686450805\n",
      "Number of values over average: 167 (45.6%)\n",
      "cluster: 15 silhouette score: 0.229566660281 calinski_harabaz: 227.215894789\n",
      "Number of values over average: 165 (45.1%)\n",
      "cluster: 16 silhouette score: 0.222042243626 calinski_harabaz: 218.031936597\n",
      "Number of values over average: 166 (45.4%)\n"
     ]
    }
   ],
   "source": [
    "nb_clusters, cluster_centers, cluster_labels = cluster(daybyHH[\"Electricity\"].values)\n",
    "daybyHH[\"Labels Kmeans\"] = cluster_labels\n",
    "daybyHH.set_index(\"Labels Kmeans\", append=True, inplace=True)\n",
    "df_to_plot= daybyHH.reorder_levels([\"Labels Kmeans\", \"Date\"], axis=0)\n",
    "df_to_plot=  df_to_plot[\"Electricity\"].sort_index(axis=0).transpose()"
   ]
  },
  {
   "cell_type": "code",
   "metadata": {
    "collapsed": false
   },
   "outputs": [
    {
     "data": {
      "text/plain": [
      ]
     },
     "metadata": {},
     "output_type": "display_data"
    }
   ],
   "source": [
    "fig, ax = plt.subplots(figsize=(14, 6))\n",
    "color=[\"blue\", \"green\", \"black\"]\n",
    "x=[val for val in df_to_plot.index]\n",
    "for n_cluster in range(nb_clusters):\n",
    "    y1= df_to_plot.loc[:, n_cluster].quantile(0.05, axis=1).values\n",
    "    y2= df_to_plot.loc[:, n_cluster].quantile(0.95, axis=1).values\n",
    "    ax.fill_between(x, y1, y2, color=sns.color_palette()[n_cluster], alpha=0.5)\n",
    "    plt.plot(x, cluster_centers[n_cluster], color=sns.color_palette()[n_cluster], alpha=1)\n",
   ]
  },
  {
   "cell_type": "code",
   "execution_count": null,
   "metadata": {
    "collapsed": false
   },
   "outputs": [],
   "source": []
  },
  {
   "cell_type": "code",
   "metadata": {
    "collapsed": false
   },
   "outputs": [],
   "source": [
    "weekByHour = result.groupby([\"Week\", \"DayOfWeek\", \"Hour\"]).mean()\n",
    "weekByHour = weekByHour.unstack(\"Week\")[\"Electricity\"].reset_index()\n",
    "weekByHour.dropna(how=\"any\", axis=1, inplace=True)\n",
    "weekByHour.drop([\"DayOfWeek\", \"Hour\"],axis=1, inplace=True)"
   ]
  },
  {
   "cell_type": "code",
   "metadata": {
    "collapsed": false
   },
   "outputs": [],
   "source": [
    "weekByHour=weekByHour.transpose()"
   ]
  },
  {
   "cell_type": "code",
   "metadata": {
    "collapsed": false
   },
   "outputs": [
    {
     "name": "stdout",
     "output_type": "stream",
     "text": [
      "cluster: 2 silhouette score: 0.497140458987 calinski_harabaz: 37.5264012564\n",
      "Number of values over average: 32 (62.7%)\n",
      "cluster: 3 silhouette score: 0.287398999894 calinski_harabaz: 33.867329197\n",
      "Number of values over average: 22 (43.1%)\n",
      "cluster: 4 silhouette score: 0.296858133126 calinski_harabaz: 33.1582242729\n",
      "Number of values over average: 28 (54.9%)\n",
      "cluster: 5 silhouette score: 0.284903051425 calinski_harabaz: 29.0223055336\n",
      "Number of values over average: 25 (49.0%)\n",
      "cluster: 6 silhouette score: 0.255981778761 calinski_harabaz: 25.1803888829\n",
      "Number of values over average: 23 (45.1%)\n",
      "cluster: 7 silhouette score: 0.272868127199 calinski_harabaz: 23.4441796286\n",
      "Number of values over average: 26 (51.0%)\n",
      "cluster: 8 silhouette score: 0.225022842021 calinski_harabaz: 22.0961647273\n",
      "Number of values over average: 23 (45.1%)\n",
      "cluster: 9 silhouette score: 0.243471478184 calinski_harabaz: 21.3964447183\n",
      "Number of values over average: 24 (47.1%)\n",
      "cluster: 10 silhouette score: 0.210008864693 calinski_harabaz: 19.3706201013\n",
      "Number of values over average: 24 (47.1%)\n",
      "cluster: 11 silhouette score: 0.217363804714 calinski_harabaz: 19.4449928985\n",
      "Number of values over average: 25 (49.0%)\n",
      "cluster: 12 silhouette score: 0.227066401437 calinski_harabaz: 18.4097760653\n",
      "Number of values over average: 24 (47.1%)\n",
      "cluster: 13 silhouette score: 0.210105841425 calinski_harabaz: 17.6394120194\n",
      "Number of values over average: 25 (49.0%)\n",
      "cluster: 14 silhouette score: 0.192821027814 calinski_harabaz: 17.0230836805\n",
      "Number of values over average: 22 (43.1%)\n",
      "cluster: 15 silhouette score: 0.214732668114 calinski_harabaz: 17.3107488873\n",
      "Number of values over average: 27 (52.9%)\n",
      "cluster: 16 silhouette score: 0.180139224698 calinski_harabaz: 15.6862728664\n",
      "Number of values over average: 23 (45.1%)\n"
     ]
    }
   ],
   "source": [
    "nb_clusters, cluster_centers, cluster_labels = cluster(weekByHour.values)\n",
    "weekByHour[\"Labels Kmeans\"] = cluster_labels\n",
    "weekByHour.index.name = \"index\"\n",
    "weekByHour.set_index(\"Labels Kmeans\", append=True, inplace=True)\n",
    "df_to_plot= weekByHour.reorder_levels([\"Labels Kmeans\", \"index\"], axis=0)\n",
    "df_to_plot=  df_to_plot.sort_index(axis=0).transpose()"
   ]
  },
  {
   "cell_type": "code",
   "metadata": {
    "collapsed": false
   },
   "outputs": [
    {
     "data": {
      "text/plain": [
      ]
     },
     "metadata": {},
     "output_type": "display_data"
    }
   ],
   "source": [
    "fig, ax = plt.subplots(figsize=(14, 6))\n",
    "color=[\"blue\", \"green\", \"black\"]\n",
    "x=[val for val in df_to_plot.index]\n",
    "for n_cluster in range(nb_clusters):\n",
    "    y1= df_to_plot.loc[:, n_cluster].quantile(0.05, axis=1).values\n",
    "    y2= df_to_plot.loc[:, n_cluster].quantile(0.95, axis=1).values\n",
    "    ax.fill_between(x, y1, y2, color=sns.color_palette()[n_cluster], alpha=0.5)\n",
   ]
  },
  {
   "cell_type": "code",
   "metadata": {
    "collapsed": false
   },
   "outputs": [
    {
     "data": {
      "text/plain": [
      ]
     },
     "metadata": {},
     "output_type": "display_data"
    }
   ],
   "source": [
    "fig, ax = plt.subplots(figsize=(14, 6))\n",
    "df[\"Electricity\"].plot(ax=fig.gca())\n",
    "ax.set_xlabel(\"Date\")\n",
   ]
  },
  {
   "cell_type": "markdown",
   "metadata": {},
   "source": [
    "## Average day (weekend and weekday)"
   ]
  },
  {
   "cell_type": "markdown",
   "metadata": {
    "collapsed": false
   },
   "source": [
    "The graph below shows the average consumption over a week day and a weekend day. The consumption starts to increase from 5am to reach its peak around 7:30am and 12am. Thereafter it decreases until 3pm plateau until 8pm then decreases again. The pattern reflects a building being used mainly from 7:30am to 8pm. "
   ]
  },
  {
   "cell_type": "code",
   "metadata": {
    "collapsed": false
   },
   "outputs": [
    {
     "data": {
      "text/plain": [
      ]
     },
     "metadata": {},
     "output_type": "display_data"
    }
   ],
   "source": [
    "averageDaybyHH = result.groupby([\"Weekday\", \"HH\"]).mean()\n",
    "fig, ax = plt.subplots(figsize=(14, 6))\n",
    "averageDaybyHH.unstack(\"Weekday\")[\"Electricity\"].plot(ax=fig.gca())\n",
    "lines, labels = ax.get_legend_handles_labels()\n",
    "labels = [\"Average weekend day\", \"Average week day\"]\n",
    "ax.legend(lines, labels, title=\"Legend\")\n",
    "ax.set_xlabel(\"Half-hour\")\n",
   ]
  },
  {
   "cell_type": "markdown",
   "metadata": {
    "collapsed": false
   },
   "source": [
    "# Heat and Heat flow"
   ]
  },
  {
   "cell_type": "code",
   "metadata": {
    "collapsed": false
   },
   "outputs": [
    {
     "data": {
      "text/plain": [
      ]
     },
     "metadata": {},
     "output_type": "display_data"
    }
   ],
   "source": [
    "fig, ax = plt.subplots(figsize=(14, 6))\n",
    "# result[\"Heat\"].resample('d').sum().plot(ax=fig.gca())\n",
    "result[\"HeatFlow\"].resample('d').sum().plot(ax=ax, label=\"Heat flow\")\n",
    "ax2 =ax.twinx()\n",
    "result[\"Heat\"].resample('d').sum().plot(ax=ax2, color=sns.color_palette()[1], label=\"Heat\")\n",
    "ax.set_xlabel(\"Date\")\n",
    "ax.set_ylabel(\"Daily consumption [kWh]\")\n",
    "ax2.set_ylabel(\"Daily consumption [kWh]\")\n",
    "\n",
    "lines, labels = ax.get_legend_handles_labels()\n",
    "lines2, labels2 = ax2.get_legend_handles_labels()\n",
    "lines= lines+lines2\n",
    "labels=labels+labels2\n",
   ]
  },
  {
   "cell_type": "markdown",
   "metadata": {
    "collapsed": false
   },
   "source": [
    "## As seen in the graph above, the linear relation between Heat and Heat flow can be observed again in the graph below."
   ]
  },
  {
   "cell_type": "code",
   "metadata": {
    "collapsed": false
   },
   "outputs": [
    {
     "data": {
      "text/plain": [
      ]
     },
     "metadata": {},
     "output_type": "display_data"
    }
   ],
   "source": [
    "x_data = \"Heat\"\n",
    "y_data = \"HeatFlow\"\n",
    "fig, ax = plt.subplots(figsize=(14, 6))\n",
    "sns.regplot(x=x_data, y=y_data, data=result, fit_reg=False, ax=ax, label=\"half-hourly\", x_jitter=0.01)\n",
    "sns.regplot(x=x_data, y=y_data, data=result.resample(\"H\").mean(), fit_reg=False, ax=ax, label=\"hourly\")\n",
    "sns.regplot(x=x_data, y=y_data, data=result.resample(\"d\").mean(), fit_reg=False, ax=ax, label=\"daily\")\n",
    "sns.regplot(x=x_data, y=y_data, data=result.resample(\"m\").mean(), fit_reg=False, ax=ax, label=\"monthly\")\n",
    "legend = plt.legend()"
   ]
  },
  {
   "cell_type": "markdown",
   "metadata": {},
   "source": [
    "# Heat"
   ]
  },
  {
   "cell_type": "markdown",
   "metadata": {},
   "source": [
    "## Relation between Heat and Temperature "
   ]
  },
  {
   "cell_type": "markdown",
   "metadata": {},
   "source": [
    "We can observe that the relation between heat and temperature at half hourly resolution is not obvious. Although at daily and monthly resolution, the relation becomes obvious and we can observe a linear relation between the two when temperature is below ~15C and a flat line when above. This difference can be explained by the delay in reaction of the system to the outdoor temperature. \n",
    "More details can be found about shift-error and change point model here: http://www.ibpsa.us/sites/default/files/publications/SB10-PPT-IS09C-02-Kissock.pdf"
   ]
  },
  {
   "cell_type": "code",
   "metadata": {
    "collapsed": false
   },
   "outputs": [
    {
     "data": {
      "text/plain": [
      ]
     },
     "metadata": {},
     "output_type": "display_data"
    }
   ],
   "source": [
    "x_data = \"Temperature\"\n",
    "y_data = \"Heat\"\n",
    "fig, ax = plt.subplots(figsize=(14, 6))\n",
    "sns.regplot(x=x_data, y=y_data, data=result, fit_reg=False, ax=ax, label=\"half-hourly\", y_jitter=0.01)\n",
    "sns.regplot(x=x_data, y=y_data, data=result.resample(\"H\").mean(), fit_reg=False, ax=ax, label=\"hourly\")\n",
    "sns.regplot(x=x_data, y=y_data, data=result.resample(\"d\").mean(), fit_reg=False, ax=ax, label=\"daily\")\n",
    "sns.regplot(x=x_data, y=y_data, data=result.resample(\"m\").mean(), fit_reg=False, ax=ax, label=\"monthly\")\n",
   ]
  },
  {
   "cell_type": "code",
   "metadata": {
    "collapsed": false
   },
   "outputs": [
    {
     "name": "stdout",
     "output_type": "stream",
     "text": [
      "Regression\n",
      "equation: Y= 1.414362-0.549875*X*(T-16.688995 )\n"
     ]
    },
    {
     "data": {
      "text/plain": [
      ]
     },
     "metadata": {},
     "output_type": "display_data"
    }
   ],
   "source": [
    "model = regression.Regression()\n",
    "model._model(daily_data[[\"Heat\", \"Temperature\"]].copy(), verbose_eval=False)\n",
    "model._plot()\n",
   ]
  },
  {
   "cell_type": "markdown",
   "metadata": {},
   "source": [
    "## Using the equation calculated previously, we can estimate the breakdown between space heating consumption and hot water consumption"
   ]
  },
  {
   "cell_type": "code",
   "metadata": {
    "collapsed": false
   },
   "outputs": [
    {
     "data": {
      "text/html": [
       "<div>\n",
       "<table border=\"1\" class=\"dataframe\">\n",
       "  <thead>\n",
       "    <tr style=\"text-align: right;\">\n",
       "      <th></th>\n",
       "      <th>Heat</th>\n",
       "      <th>Electricity</th>\n",
       "      <th>HeatFlow</th>\n",
       "      <th>Temperature</th>\n",
       "      <th>Space heating</th>\n",
       "      <th>Hot water</th>\n",
       "    </tr>\n",
       "  </thead>\n",
       "  <tbody>\n",
       "    <tr>\n",
       "      <th>2016-01-01</th>\n",
       "      <td>7.7</td>\n",
       "      <td>1519.0</td>\n",
       "      <td>225.4</td>\n",
       "      <td>3.924167</td>\n",
       "      <td>7.019064</td>\n",
       "      <td>0.680936</td>\n",
       "    </tr>\n",
       "    <tr>\n",
       "      <th>2016-01-02</th>\n",
       "      <td>5.4</td>\n",
       "      <td>1469.0</td>\n",
       "      <td>137.3</td>\n",
       "      <td>8.621354</td>\n",
       "      <td>4.436197</td>\n",
       "      <td>0.963803</td>\n",
       "    </tr>\n",
       "    <tr>\n",
       "      <th>2016-01-03</th>\n",
       "      <td>6.0</td>\n",
       "      <td>1697.0</td>\n",
       "      <td>150.0</td>\n",
       "      <td>6.668958</td>\n",
       "      <td>5.509771</td>\n",
       "      <td>0.490229</td>\n",
       "    </tr>\n",
       "    <tr>\n",
       "      <th>2016-01-04</th>\n",
       "      <td>7.2</td>\n",
       "      <td>2561.0</td>\n",
       "      <td>176.4</td>\n",
       "      <td>6.145417</td>\n",
       "      <td>5.797654</td>\n",
       "      <td>1.402346</td>\n",
       "    </tr>\n",
       "    <tr>\n",
       "      <th>2016-01-05</th>\n",
       "      <td>7.1</td>\n",
       "      <td>3187.0</td>\n",
       "      <td>157.1</td>\n",
       "      <td>6.905208</td>\n",
       "      <td>5.379863</td>\n",
       "      <td>1.720137</td>\n",
       "    </tr>\n",
       "  </tbody>\n",
       "</table>\n",
       "</div>"
      ],
      "text/plain": [
       "\n",
       "            Space heating  Hot water  \n",
       "2016-01-01       7.019064   0.680936  \n",
       "2016-01-02       4.436197   0.963803  \n",
       "2016-01-03       5.509771   0.490229  \n",
       "2016-01-04       5.797654   1.402346  \n",
       "2016-01-05       5.379863   1.720137  "
      ]
     },
     "metadata": {},
     "output_type": "execute_result"
    }
   ],
   "source": [
    "daily_data[\"Space heating\"]= [params[1]*(temp-params[2]) if temp<params[2] else 0 for temp in daily_data[\"Temperature\"]]\n",
    "daily_data[\"Hot water\"] = daily_data[\"Heat\"] - daily_data[\"Space heating\"]\n",
    "daily_data.loc[daily_data[\"Hot water\"]<0, \"Hot water\"]=0\n",
    "daily_data.head()"
   ]
  },
  {
   "cell_type": "markdown",
   "metadata": {},
   "source": [
   ]
  },
  {
   "cell_type": "code",
   "metadata": {
    "collapsed": false
   },
   "outputs": [
    {
     "data": {
      "text/plain": [
      ]
     },
     "metadata": {},
     "output_type": "display_data"
    }
   ],
   "source": [
    "fig, ax = plt.subplots(figsize=(14, 6))\n",
    "daily_data[[\"Space heating\", \"Hot water\"]].plot.area(ax=ax, stacked=True)\n",
    "ax.set_xlabel(\"Date\")\n",
    "ax.set_ylabel(\"Daily consumption [kWh]\")\n",
   ]
  },
  {
   "cell_type": "code",
   "execution_count": null,
   "metadata": {
    "collapsed": false
   },
   "outputs": [],
   "source": []
  },
  {
   "cell_type": "code",
   "metadata": {
    "collapsed": false
   },
   "outputs": [],
   "source": [
    "# sns.palplot(sns.cubehelix_palette(12, light=.7, dark=.2))\n",
    "palette = sns.cubehelix_palette(12, light=.7, dark=.2)\n",
   ]
  },
  {
   "cell_type": "code",
   "metadata": {
    "collapsed": false
   },
   "outputs": [
    {
     "data": {
      "text/plain": [
      ]
     },
     "metadata": {},
     "output_type": "display_data"
    }
   ],
   "source": [
    "hourly_data = result.resample(\"H\").agg({\"Heat\": np.sum,\"Electricity\": np.sum,\"HeatFlow\": np.sum, \"Temperature\":np.mean, \"Hour\":np.mean, \"Month\":np.mean})\n",
    "\n",
   ]
  },
  {
   "cell_type": "code",
   "metadata": {
    "collapsed": false
   },
  },
  {
   "cell_type": "code",
   "metadata": {
    "collapsed": false
   },
   "outputs": [
    {
     "data": {
      "text/plain": [
      ]
     },
     "metadata": {},
     "output_type": "display_data"
    }
   ],
   "source": [
    "g = sns.lmplot(x=\"Temperature\", y=\"Heat\", hue=\"Month\", data=hourly_data.loc[hourly_data[\"Hour\"]==2, :] , fit_reg=False, palette=sns.color_palette(), y_jitter=0.05)"
   ]
  },
  {
   "cell_type": "code",
   "metadata": {
    "collapsed": false
   },
   "outputs": [
    {
     "data": {
      "text/plain": [
      ]
     },
     "metadata": {},
    {
     "data": {
      "text/plain": [
      ]
     },
     "metadata": {},
     "output_type": "display_data"
    }
   ],
   "source": [
    "averageDaybyHH = result.groupby([\"Weekday\", \"HH\"]).mean()\n",
    "fig, ax = plt.subplots(figsize=(14, 6))\n",
    "averageDaybyHH.unstack(\"Weekday\")[\"Heat\"].plot(ax=fig.gca())\n",
    "lines, labels = ax.get_legend_handles_labels()\n",
    "labels = [\"Average weekdend day\", \"Average week day\"]\n",
    "ax.legend(lines, labels, title=\"Legend\")\n",
    "ax.set_xlabel(\"Half-hour\")\n",
   ]
  }
 ],
 "metadata": {
  "anaconda-cloud": {},
  "kernelspec": {
   "language": "python",
   "name": "python3"
  },
  "language_info": {
   "codemirror_mode": {
    "name": "ipython",
    "version": 3
   },
   "file_extension": ".py",
   "mimetype": "text/x-python",
   "name": "python",
   "nbconvert_exporter": "python",
   "pygments_lexer": "ipython3",
  }
 },
 "nbformat": 4,
 "nbformat_minor": 1
}
