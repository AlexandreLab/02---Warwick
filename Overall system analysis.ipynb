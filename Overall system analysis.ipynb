{
 "cells": [
  {
   "cell_type": "code",
   "execution_count": 1,
   "metadata": {
    "collapsed": true
   },
   "outputs": [],
   "source": [
    "import pandas as pd\n",
    "import seaborn as sns\n",
    "import matplotlib.pyplot as plt\n",
    "import numpy as np\n",
    "import calendar\n",
    "from pandas.tseries import offsets\n",
    "import os\n",
    "from datetime import date\n",
    "import holidays\n",
    "\n",
    "%matplotlib inline  \n",
    "\n",
    "blues = [x for x in reversed(sns.color_palette(\"Blues_d\", 11))]"
   ]
  },
  {
   "cell_type": "code",
   "execution_count": 2,
   "metadata": {
    "collapsed": false
   },
   "outputs": [
    {
     "name": "stdout",
     "output_type": "stream",
     "text": [
      "C:\\Users\\sceac10\\OneDrive - Cardiff University\\05 - Python\\02 - Warwick\n",
      "C:\n",
      "Users\n",
      "sceac10\n",
      "OneDrive - Cardiff University\n",
      "C:\\Users\\sceac10\\OneDrive - Cardiff University\\\n"
     ]
    }
   ],
   "source": [
    "import os\n",
    "print(os.getcwd())\n",
    "computer_path= \"\"\n",
    "for x in os.getcwd().split(\"\\\\\"):\n",
    "    print(x)\n",
    "    computer_path=computer_path+x+\"\\\\\"\n",
    "    if x == \"OneDrive - Cardiff University\":\n",
    "        break    \n",
    "print(computer_path)"
   ]
  },
  {
   "cell_type": "code",
   "execution_count": 3,
   "metadata": {
    "collapsed": false
   },
   "outputs": [],
   "source": [
    "path = computer_path+ '/04 - Projects/02 - Warwick/04 - Data/System data/'\n",
    "files=  ['Electricity demand.csv', 'Heat demand.csv']\n",
    "file = \"Warwick data.csv\""
   ]
  },
  {
   "cell_type": "code",
   "execution_count": 4,
   "metadata": {
    "collapsed": true
   },
   "outputs": [],
   "source": [
    "def cleanAndPrepare(data, meterName):\n",
    "    data[\"Date\"]=data[\"Date\"] + \" \" +data[\"StartTime\"]\n",
    "    data[\"Date\"] = pd.to_datetime(data[\"Date\"], format=\"%d/%m/%Y %H:%M\")\n",
    "    data.set_index(\"Date\", drop=True, inplace=True)\n",
    "    data.drop([\"Meter\", \"Name\", \"SerialNumber\", \"Register\", \"StartTime\", \"Duration\", \"TotalValue\", \"Unit\"], axis=1, inplace=True)\n",
    "    data.columns = [meterName]"
   ]
  },
  {
   "cell_type": "code",
   "execution_count": 5,
   "metadata": {
    "collapsed": false
   },
   "outputs": [
    {
     "name": "stdout",
     "output_type": "stream",
     "text": [
      "Electricity demand.csv has 0 missing data\n",
      "Heat demand.csv has 0 missing data\n"
     ]
    },
    {
     "data": {
      "text/html": [
       "<div>\n",
       "<table border=\"1\" class=\"dataframe\">\n",
       "  <thead>\n",
       "    <tr style=\"text-align: right;\">\n",
       "      <th></th>\n",
       "      <th>Electricity demand</th>\n",
       "      <th>Heat demand</th>\n",
       "    </tr>\n",
       "  </thead>\n",
       "  <tbody>\n",
       "    <tr>\n",
       "      <th>2016-01-01 00:00:00</th>\n",
       "      <td>2536</td>\n",
       "      <td>1.501</td>\n",
       "    </tr>\n",
       "    <tr>\n",
       "      <th>2016-01-01 00:30:00</th>\n",
       "      <td>2519</td>\n",
       "      <td>1.499</td>\n",
       "    </tr>\n",
       "    <tr>\n",
       "      <th>2016-01-01 01:00:00</th>\n",
       "      <td>2539</td>\n",
       "      <td>1.501</td>\n",
       "    </tr>\n",
       "    <tr>\n",
       "      <th>2016-01-01 01:30:00</th>\n",
       "      <td>2525</td>\n",
       "      <td>1.399</td>\n",
       "    </tr>\n",
       "    <tr>\n",
       "      <th>2016-01-01 02:00:00</th>\n",
       "      <td>2518</td>\n",
       "      <td>1.601</td>\n",
       "    </tr>\n",
       "  </tbody>\n",
       "</table>\n",
       "</div>"
      ],
      "text/plain": [
       "                     Electricity demand  Heat demand\n",
       "2016-01-01 00:00:00                2536        1.501\n",
       "2016-01-01 00:30:00                2519        1.499\n",
       "2016-01-01 01:00:00                2539        1.501\n",
       "2016-01-01 01:30:00                2525        1.399\n",
       "2016-01-01 02:00:00                2518        1.601"
      ]
     },
     "execution_count": 5,
     "metadata": {},
     "output_type": "execute_result"
    }
   ],
   "source": [
    "frames = []\n",
    "\n",
    "for filename in files:\n",
    "    data = pd.read_csv(path+filename)\n",
    "    meterName = filename.split(\".csv\")[0]\n",
    "    cleanAndPrepare(data, meterName)\n",
    "    print(filename + \" has \" + '{:d}'.format(data[meterName].isnull().sum()) + \" missing data\")\n",
    "    frames.append(data)\n",
    "\n",
    "result = pd.concat(frames,axis=1)\n",
    "result.set_index(pd.date_range(start=result.index[0], end=result.index[-1], freq='30T' ), inplace=True)\n",
    "result.head()"
   ]
  },
  {
   "cell_type": "code",
   "execution_count": 12,
   "metadata": {
    "collapsed": false
   },
   "outputs": [
    {
     "data": {
      "text/html": [
       "<div>\n",
       "<table border=\"1\" class=\"dataframe\">\n",
       "  <thead>\n",
       "    <tr style=\"text-align: right;\">\n",
       "      <th></th>\n",
       "      <th>Heat storage (MWh)</th>\n",
       "      <th>Heat demand (MWh)</th>\n",
       "      <th>Total heat output (m3)</th>\n",
       "      <th>Total heat output (MWh)</th>\n",
       "      <th>Energy centre gas (kWh)</th>\n",
       "      <th>CHP1 elec (kWh)</th>\n",
       "      <th>CHP2 elec (kWh)</th>\n",
       "      <th>CHP3 elec (kWh)</th>\n",
       "      <th>Total elec from CHP (kWh)</th>\n",
       "      <th>District Output DeltaT (Celsius)</th>\n",
       "      <th>Electricity demand (kWh)</th>\n",
       "      <th>SOC</th>\n",
       "    </tr>\n",
       "    <tr>\n",
       "      <th>Date</th>\n",
       "      <th></th>\n",
       "      <th></th>\n",
       "      <th></th>\n",
       "      <th></th>\n",
       "      <th></th>\n",
       "      <th></th>\n",
       "      <th></th>\n",
       "      <th></th>\n",
       "      <th></th>\n",
       "      <th></th>\n",
       "      <th></th>\n",
       "      <th></th>\n",
       "    </tr>\n",
       "  </thead>\n",
       "  <tbody>\n",
       "    <tr>\n",
       "      <th>2016-01-01 00:00:00</th>\n",
       "      <td>-0.603</td>\n",
       "      <td>2.227</td>\n",
       "      <td>124.3</td>\n",
       "      <td>2.83</td>\n",
       "      <td>4476</td>\n",
       "      <td>0</td>\n",
       "      <td>693</td>\n",
       "      <td>0</td>\n",
       "      <td>693</td>\n",
       "      <td>19.602</td>\n",
       "      <td>2536</td>\n",
       "      <td>-0.603</td>\n",
       "    </tr>\n",
       "    <tr>\n",
       "      <th>2016-01-01 00:30:00</th>\n",
       "      <td>0.136</td>\n",
       "      <td>2.726</td>\n",
       "      <td>108.1</td>\n",
       "      <td>2.59</td>\n",
       "      <td>5240</td>\n",
       "      <td>0</td>\n",
       "      <td>693</td>\n",
       "      <td>0</td>\n",
       "      <td>693</td>\n",
       "      <td>20.628</td>\n",
       "      <td>2519</td>\n",
       "      <td>-0.467</td>\n",
       "    </tr>\n",
       "    <tr>\n",
       "      <th>2016-01-01 01:00:00</th>\n",
       "      <td>-0.137</td>\n",
       "      <td>2.283</td>\n",
       "      <td>104.7</td>\n",
       "      <td>2.42</td>\n",
       "      <td>4585</td>\n",
       "      <td>0</td>\n",
       "      <td>692</td>\n",
       "      <td>0</td>\n",
       "      <td>692</td>\n",
       "      <td>19.9</td>\n",
       "      <td>2539</td>\n",
       "      <td>-0.604</td>\n",
       "    </tr>\n",
       "    <tr>\n",
       "      <th>2016-01-01 01:30:00</th>\n",
       "      <td>-0.420</td>\n",
       "      <td>1.850</td>\n",
       "      <td>99.8</td>\n",
       "      <td>2.27</td>\n",
       "      <td>4257</td>\n",
       "      <td>0</td>\n",
       "      <td>693</td>\n",
       "      <td>0</td>\n",
       "      <td>693</td>\n",
       "      <td>19.583</td>\n",
       "      <td>2525</td>\n",
       "      <td>-1.024</td>\n",
       "    </tr>\n",
       "    <tr>\n",
       "      <th>2016-01-01 02:00:00</th>\n",
       "      <td>-0.810</td>\n",
       "      <td>2.590</td>\n",
       "      <td>144.3</td>\n",
       "      <td>3.40</td>\n",
       "      <td>5022</td>\n",
       "      <td>0</td>\n",
       "      <td>693</td>\n",
       "      <td>0</td>\n",
       "      <td>693</td>\n",
       "      <td>20.286</td>\n",
       "      <td>2518</td>\n",
       "      <td>-1.834</td>\n",
       "    </tr>\n",
       "  </tbody>\n",
       "</table>\n",
       "</div>"
      ],
      "text/plain": [
       "                     Heat storage (MWh)  Heat demand (MWh)  \\\n",
       "Date                                                         \n",
       "2016-01-01 00:00:00              -0.603              2.227   \n",
       "2016-01-01 00:30:00               0.136              2.726   \n",
       "2016-01-01 01:00:00              -0.137              2.283   \n",
       "2016-01-01 01:30:00              -0.420              1.850   \n",
       "2016-01-01 02:00:00              -0.810              2.590   \n",
       "\n",
       "                     Total heat output (m3)  Total heat output (MWh)  \\\n",
       "Date                                                                   \n",
       "2016-01-01 00:00:00                   124.3                     2.83   \n",
       "2016-01-01 00:30:00                   108.1                     2.59   \n",
       "2016-01-01 01:00:00                   104.7                     2.42   \n",
       "2016-01-01 01:30:00                    99.8                     2.27   \n",
       "2016-01-01 02:00:00                   144.3                     3.40   \n",
       "\n",
       "                     Energy centre gas (kWh)  CHP1 elec (kWh)  \\\n",
       "Date                                                            \n",
       "2016-01-01 00:00:00                     4476                0   \n",
       "2016-01-01 00:30:00                     5240                0   \n",
       "2016-01-01 01:00:00                     4585                0   \n",
       "2016-01-01 01:30:00                     4257                0   \n",
       "2016-01-01 02:00:00                     5022                0   \n",
       "\n",
       "                     CHP2 elec (kWh)  CHP3 elec (kWh)  \\\n",
       "Date                                                    \n",
       "2016-01-01 00:00:00              693                0   \n",
       "2016-01-01 00:30:00              693                0   \n",
       "2016-01-01 01:00:00              692                0   \n",
       "2016-01-01 01:30:00              693                0   \n",
       "2016-01-01 02:00:00              693                0   \n",
       "\n",
       "                     Total elec from CHP (kWh)  \\\n",
       "Date                                             \n",
       "2016-01-01 00:00:00                        693   \n",
       "2016-01-01 00:30:00                        693   \n",
       "2016-01-01 01:00:00                        692   \n",
       "2016-01-01 01:30:00                        693   \n",
       "2016-01-01 02:00:00                        693   \n",
       "\n",
       "                    District Output DeltaT (Celsius)  \\\n",
       "Date                                                   \n",
       "2016-01-01 00:00:00                           19.602   \n",
       "2016-01-01 00:30:00                           20.628   \n",
       "2016-01-01 01:00:00                             19.9   \n",
       "2016-01-01 01:30:00                           19.583   \n",
       "2016-01-01 02:00:00                           20.286   \n",
       "\n",
       "                     Electricity demand (kWh)    SOC  \n",
       "Date                                                  \n",
       "2016-01-01 00:00:00                      2536 -0.603  \n",
       "2016-01-01 00:30:00                      2519 -0.467  \n",
       "2016-01-01 01:00:00                      2539 -0.604  \n",
       "2016-01-01 01:30:00                      2525 -1.024  \n",
       "2016-01-01 02:00:00                      2518 -1.834  "
      ]
     },
     "execution_count": 12,
     "metadata": {},
     "output_type": "execute_result"
    }
   ],
   "source": [
    "data = pd.read_csv(path+file)\n",
    "data[\"Date\"]=data[\"Date\"] + \" \" +data[\"StartTime\"]\n",
    "data[\"Date\"] = pd.to_datetime(data[\"Date\"], format=\"%d/%m/%Y %H:%M\")\n",
    "data.set_index(\"Date\", drop=True, inplace=True)\n",
    "data.drop([\"Meter\", \"StartTime\"], axis=1, inplace=True)\n",
    "data[\"SOC\"]=data[\"Heat storage (MWh)\"].rolling(data.shape[0], min_periods=1).sum()\n",
    "data.head()"
   ]
  },
  {
   "cell_type": "code",
   "execution_count": 11,
   "metadata": {
    "collapsed": false
   },
   "outputs": [
    {
     "data": {
      "text/plain": [
       "<matplotlib.axes._subplots.AxesSubplot at 0xd5129b0>"
      ]
     },
     "execution_count": 11,
     "metadata": {},
     "output_type": "execute_result"
    },
    {
     "data": {
      "image/png": "[encoded data removed]",
      "text/plain": [
       "<matplotlib.figure.Figure at 0xd0652e8>"
      ]
     },
     "metadata": {},
     "output_type": "display_data"
    }
   ],
   "source": [
    "data[[\"Heat demand (MWh)\", \"Heat storage (MWh)\"]].plot()"
   ]
  },
  {
   "cell_type": "code",
   "execution_count": 8,
   "metadata": {
    "collapsed": true
   },
   "outputs": [],
   "source": []
  },
  {
   "cell_type": "code",
   "execution_count": 9,
   "metadata": {
    "collapsed": false
   },
   "outputs": [
    {
     "data": {
      "text/plain": [
       "<matplotlib.axes._subplots.AxesSubplot at 0xb19e6d8>"
      ]
     },
     "execution_count": 9,
     "metadata": {},
     "output_type": "execute_result"
    },
    {
     "data": {
      "image/png": "[encoded data removed]",
      "text/plain": [
       "<matplotlib.figure.Figure at 0xb0fc550>"
      ]
     },
     "metadata": {},
     "output_type": "display_data"
    }
   ],
   "source": [
    "data[[\"SOC\", \"Heat demand (MWh)\", \"Total heat output (MWh)\"]].plot()"
   ]
  },
  {
   "cell_type": "code",
   "execution_count": null,
   "metadata": {
    "collapsed": false
   },
   "outputs": [],
   "source": [
    "result[\"Hour\"] = result.index.hour\n",
    "result[\"DayOfWeek_name\"]= [calendar.day_name[x] for x in result.index.dayofweek]\n",
    "result[\"DayOfWeek\"]= result.index.dayofweek\n",
    "result[\"Month\"] = result.index.month\n",
    "result[\"Weekday\"] = [1 if x<5 else 0 for x in result.index.dayofweek]\n",
    "result[\"HH\"] = [x%48 for x in range(0, result.shape[0], 1) ]\n",
    "# result[\"Holiday\"]= [1 if x.date() in uk_hol else 0 for x in result.index]\n",
    "result[\"Date\"] = result.index.date\n",
    "result[\"Week\"] = result.index.week\n",
    "\n",
    "def get_season(row):\n",
    "    if row['Month'] >= 3 and row['Month'] <= 5:\n",
    "        return 'Spring'\n",
    "    elif row['Month'] >= 6 and row['Month'] <= 8:\n",
    "        return 'Summer'\n",
    "    elif row['Month'] >= 9 and row['Month'] <= 11:\n",
    "        return 'Autumn'\n",
    "    else:\n",
    "        return 'Winter'\n",
    "\n",
    "season_dict = {\"Winter\":1, \"Spring\":2, \"Summer\":3, \"Autumn\":4}\n",
    "inv_season_dict = {v: k for k, v in season_dict.items()}\n",
    "result['Season'] = result.apply(get_season, axis=1)\n",
    "result['Season num'] = result['Season']\n",
    "result.replace({\"Season num\":season_dict}, inplace=True)\n",
    "result.head()"
   ]
  },
  {
   "cell_type": "code",
   "execution_count": null,
   "metadata": {
    "collapsed": false
   },
   "outputs": [],
   "source": [
    "season=\"Summer\"\n",
    "g = sns.jointplot(x=\"Electricity demand\", y=\"Heat demand\", data=result.loc[result[\"Season\"]==season, :], kind=\"kde\", stat_func=None)\n",
    "plt.savefig(path+season+\"density-distribution.png\")"
   ]
  },
  {
   "cell_type": "code",
   "execution_count": null,
   "metadata": {
    "collapsed": false
   },
   "outputs": [],
   "source": [
    "season= \"Summer\"\n",
    "bins_size = 10\n",
    "H, xedges, yedges= np.histogram2d(x=result.loc[result[\"Season\"]==season, \"Electricity demand\"], y=result.loc[result[\"Season\"]==season, \"Heat demand\"], bins=bins_size)\n",
    "H= H.T\n",
    "length_data = result.loc[result[\"Season\"]==season, :].shape[0]\n",
    "histogram=pd.DataFrame(data=H/length_data, columns= xedges[1:], index=yedges[1:])\n",
    "histogram.to_csv(path+\"Histogram-\"+season+\".csv\")"
   ]
  },
  {
   "cell_type": "code",
   "execution_count": null,
   "metadata": {
    "collapsed": false
   },
   "outputs": [],
   "source": [
    "fig, ax = plt.subplots(figsize=(14, 6))\n",
    "X, Y = np.meshgrid(xedges, yedges)\n",
    "ax.pcolormesh(X, Y, H)"
   ]
  },
  {
   "cell_type": "code",
   "execution_count": null,
   "metadata": {
    "collapsed": false
   },
   "outputs": [],
   "source": [
    "length_data = result.loc[result[\"Season\"]==\"Winter\", :].shape[0]"
   ]
  },
  {
   "cell_type": "code",
   "execution_count": null,
   "metadata": {
    "collapsed": false
   },
   "outputs": [],
   "source": [
    "result.loc[result[\"Season\"]==season, \"Electricity demand\"].hist()"
   ]
  },
  {
   "cell_type": "code",
   "execution_count": null,
   "metadata": {
    "collapsed": false
   },
   "outputs": [],
   "source": [
    "result.loc[result[\"Season\"]==season, \"Heat demand\"].hist()"
   ]
  },
  {
   "cell_type": "code",
   "execution_count": null,
   "metadata": {
    "collapsed": false
   },
   "outputs": [],
   "source": [
    "fig, ax = plt.subplots(figsize=(14, 6))\n",
    "ax2 = ax.twinx()\n",
    "result.loc[:, \"Electricity demand\"].resample('d').mean().plot(ax=ax, alpha=0.5, label=\"Electricity\")\n",
    "result.loc[:, \"Heat demand\"].resample('d').mean().plot(ax=ax2, color='green', alpha=0.5, label=\"Heat\")\n",
    "ax.set_xlabel(\"Date\")\n",
    "ax.set_ylabel(\"Average HH Electricity demand [kWh]\")\n",
    "ax2.set_ylabel(\"Average HH Heat demand [kWh]\")\n",
    "\n",
    "lines, labels = ax.get_legend_handles_labels()\n",
    "lines2, labels2 = ax2.get_legend_handles_labels()\n",
    "lines= lines+lines2\n",
    "labels=labels+labels2\n",
    "ax.legend(lines, labels, title=\"Legend\")\n",
    "plt.savefig(path+\"annual-demand.png\")"
   ]
  },
  {
   "cell_type": "code",
   "execution_count": null,
   "metadata": {
    "collapsed": false
   },
   "outputs": [],
   "source": [
    "df = pd.read_csv(path+\"Electricity load 2015-2016.csv\")\n",
    "cleanAndPrepare(df, \"Electricity\")"
   ]
  },
  {
   "cell_type": "code",
   "execution_count": null,
   "metadata": {
    "collapsed": false
   },
   "outputs": [],
   "source": [
    "df[\"HH\"] = [x%48 for x in range(0, df.shape[0], 1) ]\n",
    "df[\"Date\"] = df.index.date\n",
    "df.head()"
   ]
  },
  {
   "cell_type": "code",
   "execution_count": null,
   "metadata": {
    "collapsed": false
   },
   "outputs": [],
   "source": [
    "daybyHH = df.groupby([\"Date\", \"HH\"]).mean()\n",
    "daybyHH=daybyHH.unstack(\"HH\").reset_index()\n",
    "daybyHH[\"Date\"]=pd.to_datetime(daybyHH[\"Date\"], format=\"%Y-%m-%d\")\n",
    "daybyHH.set_index(\"Date\", inplace=True, drop=True)\n",
    "# daybyHH.dropna(how='any', inplace=True)\n",
    "daybyHH.head()"
   ]
  },
  {
   "cell_type": "code",
   "execution_count": null,
   "metadata": {
    "collapsed": false
   },
   "outputs": [],
   "source": [
    "from sklearn.cluster import KMeans\n",
    "from sklearn import metrics\n",
    "\n",
    "def cluster(values):\n",
    "    algorithm = \"elkan\"\n",
    "    max_silhouette = 0.\n",
    "    max_nb_values_over = 0.\n",
    "    cluster_centers=[]\n",
    "    cluster_labels=[]\n",
    "    for n_clusters in range(2, 17, 1):\n",
    "        kmeans = KMeans(n_clusters=n_clusters, random_state=10, algorithm=\"elkan\", n_init=30).fit(values)\n",
    "        labels_temp= kmeans.labels_\n",
    "        silhouette_avg = metrics.silhouette_score(values, labels_temp)\n",
    "        \n",
    "        silhouette_samples_values = metrics.silhouette_samples(values, labels_temp)\n",
    "        calinski_harabaz_score= metrics.calinski_harabaz_score(values, labels_temp)\n",
    "        nb_values_over = 0\n",
    "        print(\"cluster:\", n_clusters , \"silhouette score:\" ,silhouette_avg, \"calinski_harabaz:\",calinski_harabaz_score )\n",
    "#         if max_silhouette<silhouette_avg:\n",
    "#             max_silhouette=silhouette_avg\n",
    "#             cluster_centers= kmeans.cluster_centers_\n",
    "#             cluster_labels= labels_temp\n",
    "\n",
    "\n",
    "        nb_values_over = len(silhouette_samples_values[np.where(silhouette_samples_values>silhouette_avg)])\n",
    "        print(\"Number of values over average:\", nb_values_over, \"({:04.1f}%)\".format(nb_values_over/len(values)*100)) \n",
    "        \n",
    "        if max_nb_values_over<nb_values_over:\n",
    "            max_nb_values_over=nb_values_over\n",
    "            cluster_centers= kmeans.cluster_centers_\n",
    "            cluster_labels= labels_temp\n",
    "\n",
    "        \n",
    "    return cluster_centers.shape[0], cluster_centers, cluster_labels"
   ]
  },
  {
   "cell_type": "code",
   "execution_count": null,
   "metadata": {
    "collapsed": false
   },
   "outputs": [],
   "source": [
    "nb_clusters, cluster_centers, cluster_labels = cluster(daybyHH[\"Electricity\"].values)\n",
    "daybyHH[\"Labels Kmeans\"] = cluster_labels\n",
    "daybyHH.set_index(\"Labels Kmeans\", append=True, inplace=True)\n"
   ]
  },
  {
   "cell_type": "code",
   "execution_count": null,
   "metadata": {
    "collapsed": false
   },
   "outputs": [],
   "source": [
    "df_to_plot= daybyHH.reorder_levels([\"Labels Kmeans\", \"Date\"], axis=0)\n",
    "df_to_plot=  df_to_plot[\"Electricity\"].sort_index(axis=0).transpose()\n",
    "df_to_plot.head()"
   ]
  },
  {
   "cell_type": "code",
   "execution_count": null,
   "metadata": {
    "collapsed": false
   },
   "outputs": [],
   "source": [
    "fig, ax = plt.subplots(figsize=(14, 6))\n",
    "color=[\"blue\", \"green\", \"black\"]\n",
    "x=[val for val in df_to_plot.index]\n",
    "for n_cluster in range(nb_clusters):\n",
    "    print(n_cluster)\n",
    "    y1= df_to_plot.loc[:, n_cluster].quantile(0.05, axis=1).values\n",
    "    y2= df_to_plot.loc[:, n_cluster].quantile(0.95, axis=1).values\n",
    "    ax.fill_between(x, y1, y2, color=sns.color_palette()[n_cluster], alpha=0.5)\n",
    "    plt.plot(x, cluster_centers[n_cluster], color=sns.color_palette()[n_cluster], alpha=1)\n",
    "    plt.plot(x, df_to_plot.loc[:, n_cluster], color=sns.color_palette()[n_cluster], alpha=0.8, linewidth=0.3)\n",
    "    \n",
    "plt.savefig(path+\"cluster_electricity_winter.png\")"
   ]
  },
  {
   "cell_type": "code",
   "execution_count": null,
   "metadata": {
    "collapsed": false
   },
   "outputs": [],
   "source": []
  },
  {
   "cell_type": "code",
   "execution_count": null,
   "metadata": {
    "collapsed": false
   },
   "outputs": [],
   "source": []
  },
  {
   "cell_type": "code",
   "execution_count": null,
   "metadata": {
    "collapsed": false
   },
   "outputs": [],
   "source": []
  }
 ],
 "metadata": {
  "anaconda-cloud": {},
  "kernelspec": {
   "display_name": "Python 3",
   "language": "python",
   "name": "python3"
  },
  "language_info": {
   "codemirror_mode": {
    "name": "ipython",
    "version": 3
   },
   "file_extension": ".py",
   "mimetype": "text/x-python",
   "name": "python",
   "nbconvert_exporter": "python",
   "pygments_lexer": "ipython3",
   "version": "3.6.0"
  }
 },
 "nbformat": 4,
 "nbformat_minor": 1
}
