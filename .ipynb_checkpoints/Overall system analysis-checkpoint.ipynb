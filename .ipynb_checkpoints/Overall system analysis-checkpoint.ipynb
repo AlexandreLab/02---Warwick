{
 "cells": [
  {
   "cell_type": "code",
   "execution_count": 1,
   "metadata": {
    "collapsed": true
   },
   "outputs": [],
   "source": [
    "import pandas as pd\n",
    "import seaborn as sns\n",
    "import matplotlib.pyplot as plt\n",
    "import numpy as np\n",
    "import calendar\n",
    "from pandas.tseries import offsets\n",
    "import os\n",
    "from datetime import date\n",
    "import holidays\n",
    "\n",
    "%matplotlib inline  \n",
    "\n",
    "blues = [x for x in reversed(sns.color_palette(\"Blues_d\", 11))]"
   ]
  },
  {
   "cell_type": "code",
   "execution_count": 2,
   "metadata": {
    "collapsed": true
   },
   "outputs": [],
   "source": [
    "path = r'/Users/macintosh/Documents/OneDrive - Cardiff University/04 - Projects/02 - Warwick/04 - Data/System data/'\n",
    "files=  ['Electricity demand.csv', 'Heat demand.csv']"
   ]
  },
  {
   "cell_type": "code",
   "execution_count": 3,
   "metadata": {
    "collapsed": true
   },
   "outputs": [],
   "source": [
    "def cleanAndPrepare(data, meterName):\n",
    "    data[\"Date\"]=data[\"Date\"] + \" \" +data[\"StartTime\"]\n",
    "    data[\"Date\"] = pd.to_datetime(data[\"Date\"], format=\"%d/%m/%Y %H:%M\")\n",
    "    data.set_index(\"Date\", drop=True, inplace=True)\n",
    "    data.drop([\"Meter\", \"Name\", \"SerialNumber\", \"Register\", \"StartTime\", \"Duration\", \"TotalValue\", \"Unit\"], axis=1, inplace=True)\n",
    "    data.columns = [meterName]"
   ]
  },
  {
   "cell_type": "code",
   "execution_count": 4,
   "metadata": {
    "collapsed": false
   },
   "outputs": [
    {
     "name": "stdout",
     "output_type": "stream",
     "text": [
      "Electricity demand.csv has 0 missing data\n",
      "Heat demand.csv has 0 missing data\n"
     ]
    },
    {
     "data": {
      "text/html": [
       "<div>\n",
       "<table border=\"1\" class=\"dataframe\">\n",
       "  <thead>\n",
       "    <tr style=\"text-align: right;\">\n",
       "      <th></th>\n",
       "      <th>Electricity demand</th>\n",
       "      <th>Heat demand</th>\n",
       "    </tr>\n",
       "  </thead>\n",
       "  <tbody>\n",
       "    <tr>\n",
       "      <th>2016-01-01 00:00:00</th>\n",
       "      <td>2536</td>\n",
       "      <td>1.501</td>\n",
       "    </tr>\n",
       "    <tr>\n",
       "      <th>2016-01-01 00:30:00</th>\n",
       "      <td>2519</td>\n",
       "      <td>1.499</td>\n",
       "    </tr>\n",
       "    <tr>\n",
       "      <th>2016-01-01 01:00:00</th>\n",
       "      <td>2539</td>\n",
       "      <td>1.501</td>\n",
       "    </tr>\n",
       "    <tr>\n",
       "      <th>2016-01-01 01:30:00</th>\n",
       "      <td>2525</td>\n",
       "      <td>1.399</td>\n",
       "    </tr>\n",
       "    <tr>\n",
       "      <th>2016-01-01 02:00:00</th>\n",
       "      <td>2518</td>\n",
       "      <td>1.601</td>\n",
       "    </tr>\n",
       "  </tbody>\n",
       "</table>\n",
       "</div>"
      ],
      "text/plain": [
       "                     Electricity demand  Heat demand\n",
       "2016-01-01 00:00:00                2536        1.501\n",
       "2016-01-01 00:30:00                2519        1.499\n",
       "2016-01-01 01:00:00                2539        1.501\n",
       "2016-01-01 01:30:00                2525        1.399\n",
       "2016-01-01 02:00:00                2518        1.601"
      ]
     },
     "execution_count": 4,
     "metadata": {},
     "output_type": "execute_result"
    }
   ],
   "source": [
    "frames = []\n",
    "\n",
    "for filename in files:\n",
    "    data = pd.read_csv(path+filename)\n",
    "    meterName = filename.split(\".csv\")[0]\n",
    "    cleanAndPrepare(data, meterName)\n",
    "    print(filename + \" has \" + '{:d}'.format(data[meterName].isnull().sum()) + \" missing data\")\n",
    "    frames.append(data)\n",
    "\n",
    "result = pd.concat(frames,axis=1)\n",
    "result.set_index(pd.date_range(start=result.index[0], end=result.index[-1], freq='30T' ), inplace=True)\n",
    "result.head()"
   ]
  },
  {
   "cell_type": "code",
   "execution_count": 5,
   "metadata": {
    "collapsed": false
   },
   "outputs": [
    {
     "data": {
      "text/html": [
       "<div>\n",
       "<table border=\"1\" class=\"dataframe\">\n",
       "  <thead>\n",
       "    <tr style=\"text-align: right;\">\n",
       "      <th></th>\n",
       "      <th>Electricity demand</th>\n",
       "      <th>Heat demand</th>\n",
       "      <th>Hour</th>\n",
       "      <th>DayOfWeek_name</th>\n",
       "      <th>DayOfWeek</th>\n",
       "      <th>Month</th>\n",
       "      <th>Weekday</th>\n",
       "      <th>HH</th>\n",
       "      <th>Date</th>\n",
       "      <th>Week</th>\n",
       "      <th>Season</th>\n",
       "      <th>Season num</th>\n",
       "    </tr>\n",
       "  </thead>\n",
       "  <tbody>\n",
       "    <tr>\n",
       "      <th>2016-01-01 00:00:00</th>\n",
       "      <td>2536</td>\n",
       "      <td>1.501</td>\n",
       "      <td>0</td>\n",
       "      <td>Friday</td>\n",
       "      <td>4</td>\n",
       "      <td>1</td>\n",
       "      <td>1</td>\n",
       "      <td>0</td>\n",
       "      <td>2016-01-01</td>\n",
       "      <td>53</td>\n",
       "      <td>Winter</td>\n",
       "      <td>1</td>\n",
       "    </tr>\n",
       "    <tr>\n",
       "      <th>2016-01-01 00:30:00</th>\n",
       "      <td>2519</td>\n",
       "      <td>1.499</td>\n",
       "      <td>0</td>\n",
       "      <td>Friday</td>\n",
       "      <td>4</td>\n",
       "      <td>1</td>\n",
       "      <td>1</td>\n",
       "      <td>1</td>\n",
       "      <td>2016-01-01</td>\n",
       "      <td>53</td>\n",
       "      <td>Winter</td>\n",
       "      <td>1</td>\n",
       "    </tr>\n",
       "    <tr>\n",
       "      <th>2016-01-01 01:00:00</th>\n",
       "      <td>2539</td>\n",
       "      <td>1.501</td>\n",
       "      <td>1</td>\n",
       "      <td>Friday</td>\n",
       "      <td>4</td>\n",
       "      <td>1</td>\n",
       "      <td>1</td>\n",
       "      <td>2</td>\n",
       "      <td>2016-01-01</td>\n",
       "      <td>53</td>\n",
       "      <td>Winter</td>\n",
       "      <td>1</td>\n",
       "    </tr>\n",
       "    <tr>\n",
       "      <th>2016-01-01 01:30:00</th>\n",
       "      <td>2525</td>\n",
       "      <td>1.399</td>\n",
       "      <td>1</td>\n",
       "      <td>Friday</td>\n",
       "      <td>4</td>\n",
       "      <td>1</td>\n",
       "      <td>1</td>\n",
       "      <td>3</td>\n",
       "      <td>2016-01-01</td>\n",
       "      <td>53</td>\n",
       "      <td>Winter</td>\n",
       "      <td>1</td>\n",
       "    </tr>\n",
       "    <tr>\n",
       "      <th>2016-01-01 02:00:00</th>\n",
       "      <td>2518</td>\n",
       "      <td>1.601</td>\n",
       "      <td>2</td>\n",
       "      <td>Friday</td>\n",
       "      <td>4</td>\n",
       "      <td>1</td>\n",
       "      <td>1</td>\n",
       "      <td>4</td>\n",
       "      <td>2016-01-01</td>\n",
       "      <td>53</td>\n",
       "      <td>Winter</td>\n",
       "      <td>1</td>\n",
       "    </tr>\n",
       "  </tbody>\n",
       "</table>\n",
       "</div>"
      ],
      "text/plain": [
       "                     Electricity demand  Heat demand  Hour DayOfWeek_name  \\\n",
       "2016-01-01 00:00:00                2536        1.501     0         Friday   \n",
       "2016-01-01 00:30:00                2519        1.499     0         Friday   \n",
       "2016-01-01 01:00:00                2539        1.501     1         Friday   \n",
       "2016-01-01 01:30:00                2525        1.399     1         Friday   \n",
       "2016-01-01 02:00:00                2518        1.601     2         Friday   \n",
       "\n",
       "                     DayOfWeek  Month  Weekday  HH        Date  Week  Season  \\\n",
       "2016-01-01 00:00:00          4      1        1   0  2016-01-01    53  Winter   \n",
       "2016-01-01 00:30:00          4      1        1   1  2016-01-01    53  Winter   \n",
       "2016-01-01 01:00:00          4      1        1   2  2016-01-01    53  Winter   \n",
       "2016-01-01 01:30:00          4      1        1   3  2016-01-01    53  Winter   \n",
       "2016-01-01 02:00:00          4      1        1   4  2016-01-01    53  Winter   \n",
       "\n",
       "                     Season num  \n",
       "2016-01-01 00:00:00           1  \n",
       "2016-01-01 00:30:00           1  \n",
       "2016-01-01 01:00:00           1  \n",
       "2016-01-01 01:30:00           1  \n",
       "2016-01-01 02:00:00           1  "
      ]
     },
     "execution_count": 5,
     "metadata": {},
     "output_type": "execute_result"
    }
   ],
   "source": [
    "result[\"Hour\"] = result.index.hour\n",
    "result[\"DayOfWeek_name\"]= [calendar.day_name[x] for x in result.index.dayofweek]\n",
    "result[\"DayOfWeek\"]= result.index.dayofweek\n",
    "result[\"Month\"] = result.index.month\n",
    "result[\"Weekday\"] = [1 if x<5 else 0 for x in result.index.dayofweek]\n",
    "result[\"HH\"] = [x%48 for x in range(0, result.shape[0], 1) ]\n",
    "# result[\"Holiday\"]= [1 if x.date() in uk_hol else 0 for x in result.index]\n",
    "result[\"Date\"] = result.index.date\n",
    "result[\"Week\"] = result.index.week\n",
    "\n",
    "def get_season(row):\n",
    "    if row['Month'] >= 3 and row['Month'] <= 5:\n",
    "        return 'Spring'\n",
    "    elif row['Month'] >= 6 and row['Month'] <= 8:\n",
    "        return 'Summer'\n",
    "    elif row['Month'] >= 9 and row['Month'] <= 11:\n",
    "        return 'Autumn'\n",
    "    else:\n",
    "        return 'Winter'\n",
    "\n",
    "season_dict = {\"Winter\":1, \"Spring\":2, \"Summer\":3, \"Autumn\":4}\n",
    "inv_season_dict = {v: k for k, v in season_dict.items()}\n",
    "result['Season'] = result.apply(get_season, axis=1)\n",
    "result['Season num'] = result['Season']\n",
    "result.replace({\"Season num\":season_dict}, inplace=True)\n",
    "result.head()"
   ]
  },
  {
   "cell_type": "code",
   "execution_count": 10,
   "metadata": {
    "collapsed": false
   },
   "outputs": [
    {
     "name": "stderr",
     "output_type": "stream",
     "text": [
      "/Users/macintosh/anaconda/lib/python3.5/site-packages/statsmodels/nonparametric/kdetools.py:20: VisibleDeprecationWarning: using a non-integer number instead of an integer will result in an error in the future\n",
      "  y = X[:m/2+1] + np.r_[0,X[m/2+1:],0]*1j\n"
     ]
    },
    {
     "data": {
      "image/png": "[encoded data removed]",
      "text/plain": [
       "<matplotlib.figure.Figure at 0x1138be710>"
      ]
     },
     "metadata": {},
     "output_type": "display_data"
    }
   ],
   "source": [
    "sns.jointplot(x=\"Electricity demand\", y=\"Heat demand\", data=result.loc[result[\"Season\"]==\"Winter\", :], kind=\"kde\");"
   ]
  },
  {
   "cell_type": "code",
   "execution_count": 29,
   "metadata": {
    "collapsed": false
   },
   "outputs": [
    {
     "data": {
      "text/plain": [
       "array([[ 0.        ],\n",
       "       [ 0.19994737],\n",
       "       [ 0.39989474],\n",
       "       [ 0.59984211],\n",
       "       [ 0.79978947],\n",
       "       [ 0.99973684],\n",
       "       [ 1.19968421],\n",
       "       [ 1.39963158],\n",
       "       [ 1.59957895],\n",
       "       [ 1.79952632],\n",
       "       [ 1.99947368],\n",
       "       [ 2.19942105],\n",
       "       [ 2.39936842],\n",
       "       [ 2.59931579],\n",
       "       [ 2.79926316],\n",
       "       [ 2.99921053],\n",
       "       [ 3.19915789],\n",
       "       [ 3.39910526],\n",
       "       [ 3.59905263],\n",
       "       [ 3.799     ]])"
      ]
     },
     "execution_count": 29,
     "metadata": {},
     "output_type": "execute_result"
    }
   ],
   "source": [
    "from sklearn.neighbors import KernelDensity\n",
    "import math\n",
    "X_plot = np.linspace(result[\"Heat demand\"].min(), result[\"Heat demand\"].max(), num=20)[:, np.newaxis]\n",
    "X_plot"
   ]
  },
  {
   "cell_type": "code",
   "execution_count": 31,
   "metadata": {
    "collapsed": false
   },
   "outputs": [
    {
     "name": "stderr",
     "output_type": "stream",
     "text": [
      "/Users/macintosh/anaconda/lib/python3.5/site-packages/sklearn/utils/validation.py:395: DeprecationWarning: Passing 1d arrays as data is deprecated in 0.17 and will raise ValueError in 0.19. Reshape your data either using X.reshape(-1, 1) if your data has a single feature or X.reshape(1, -1) if it contains a single sample.\n",
      "  DeprecationWarning)\n",
      "/Users/macintosh/anaconda/lib/python3.5/site-packages/sklearn/utils/validation.py:395: DeprecationWarning: Passing 1d arrays as data is deprecated in 0.17 and will raise ValueError in 0.19. Reshape your data either using X.reshape(-1, 1) if your data has a single feature or X.reshape(1, -1) if it contains a single sample.\n",
      "  DeprecationWarning)\n"
     ]
    },
    {
     "ename": "ValueError",
     "evalue": "query data dimension must match training data dimension",
     "output_type": "error",
     "traceback": [
      "\u001b[0;31m---------------------------------------------------------------------------\u001b[0m",
      "\u001b[0;31mValueError\u001b[0m                                Traceback (most recent call last)",
      "\u001b[0;32m<ipython-input-31-9f34926cb467>\u001b[0m in \u001b[0;36m<module>\u001b[0;34m()\u001b[0m\n\u001b[1;32m      2\u001b[0m \u001b[0mX_plot\u001b[0m \u001b[0;34m=\u001b[0m \u001b[0;34m[\u001b[0m\u001b[0mx\u001b[0m \u001b[0;32mfor\u001b[0m \u001b[0mx\u001b[0m \u001b[0;32min\u001b[0m \u001b[0mnp\u001b[0m\u001b[0;34m.\u001b[0m\u001b[0mlinspace\u001b[0m\u001b[0;34m(\u001b[0m\u001b[0;36m0\u001b[0m\u001b[0;34m,\u001b[0m \u001b[0mmath\u001b[0m\u001b[0;34m.\u001b[0m\u001b[0mceil\u001b[0m\u001b[0;34m(\u001b[0m\u001b[0mresult\u001b[0m\u001b[0;34m[\u001b[0m\u001b[0;34m\"Heat demand\"\u001b[0m\u001b[0;34m]\u001b[0m\u001b[0;34m.\u001b[0m\u001b[0mmax\u001b[0m\u001b[0;34m(\u001b[0m\u001b[0;34m)\u001b[0m\u001b[0;34m)\u001b[0m\u001b[0;34m,\u001b[0m \u001b[0mnum\u001b[0m\u001b[0;34m=\u001b[0m\u001b[0;36m20\u001b[0m\u001b[0;34m)\u001b[0m\u001b[0;34m]\u001b[0m\u001b[0;34m\u001b[0m\u001b[0m\n\u001b[1;32m      3\u001b[0m \u001b[0mkde\u001b[0m \u001b[0;34m=\u001b[0m \u001b[0mKernelDensity\u001b[0m\u001b[0;34m(\u001b[0m\u001b[0mkernel\u001b[0m\u001b[0;34m=\u001b[0m\u001b[0;34m'gaussian'\u001b[0m\u001b[0;34m,\u001b[0m \u001b[0mbandwidth\u001b[0m\u001b[0;34m=\u001b[0m\u001b[0;36m0.75\u001b[0m\u001b[0;34m)\u001b[0m\u001b[0;34m.\u001b[0m\u001b[0mfit\u001b[0m\u001b[0;34m(\u001b[0m\u001b[0mX\u001b[0m\u001b[0;34m)\u001b[0m\u001b[0;34m\u001b[0m\u001b[0m\n\u001b[0;32m----> 4\u001b[0;31m \u001b[0mlog_dens\u001b[0m \u001b[0;34m=\u001b[0m \u001b[0mkde\u001b[0m\u001b[0;34m.\u001b[0m\u001b[0mscore_samples\u001b[0m\u001b[0;34m(\u001b[0m\u001b[0mX_plot\u001b[0m\u001b[0;34m)\u001b[0m\u001b[0;34m\u001b[0m\u001b[0m\n\u001b[0m",
      "\u001b[0;32m/Users/macintosh/anaconda/lib/python3.5/site-packages/sklearn/neighbors/kde.py\u001b[0m in \u001b[0;36mscore_samples\u001b[0;34m(self, X)\u001b[0m\n\u001b[1;32m    155\u001b[0m         log_density = self.tree_.kernel_density(\n\u001b[1;32m    156\u001b[0m             \u001b[0mX\u001b[0m\u001b[0;34m,\u001b[0m \u001b[0mh\u001b[0m\u001b[0;34m=\u001b[0m\u001b[0mself\u001b[0m\u001b[0;34m.\u001b[0m\u001b[0mbandwidth\u001b[0m\u001b[0;34m,\u001b[0m \u001b[0mkernel\u001b[0m\u001b[0;34m=\u001b[0m\u001b[0mself\u001b[0m\u001b[0;34m.\u001b[0m\u001b[0mkernel\u001b[0m\u001b[0;34m,\u001b[0m \u001b[0matol\u001b[0m\u001b[0;34m=\u001b[0m\u001b[0matol_N\u001b[0m\u001b[0;34m,\u001b[0m\u001b[0;34m\u001b[0m\u001b[0m\n\u001b[0;32m--> 157\u001b[0;31m             rtol=self.rtol, breadth_first=self.breadth_first, return_log=True)\n\u001b[0m\u001b[1;32m    158\u001b[0m         \u001b[0mlog_density\u001b[0m \u001b[0;34m-=\u001b[0m \u001b[0mnp\u001b[0m\u001b[0;34m.\u001b[0m\u001b[0mlog\u001b[0m\u001b[0;34m(\u001b[0m\u001b[0mN\u001b[0m\u001b[0;34m)\u001b[0m\u001b[0;34m\u001b[0m\u001b[0m\n\u001b[1;32m    159\u001b[0m         \u001b[0;32mreturn\u001b[0m \u001b[0mlog_density\u001b[0m\u001b[0;34m\u001b[0m\u001b[0m\n",
      "\u001b[0;32msklearn/neighbors/binary_tree.pxi\u001b[0m in \u001b[0;36msklearn.neighbors.kd_tree.BinaryTree.kernel_density (sklearn/neighbors/kd_tree.c:14381)\u001b[0;34m()\u001b[0m\n",
      "\u001b[0;31mValueError\u001b[0m: query data dimension must match training data dimension"
     ]
    }
   ],
   "source": [
    "X=result[\"Heat demand\"].values\n",
    "X_plot = [x for x in np.linspace(0, math.ceil(result[\"Heat demand\"].max()), num=20)]\n",
    "kde = KernelDensity(kernel='gaussian', bandwidth=0.75).fit(X)\n",
    "log_dens = kde.score_samples(X_plot)\n"
   ]
  }
 ],
 "metadata": {
  "anaconda-cloud": {},
  "kernelspec": {
   "display_name": "Python [default]",
   "language": "python",
   "name": "python3"
  },
  "language_info": {
   "codemirror_mode": {
    "name": "ipython",
    "version": 3
   },
   "file_extension": ".py",
   "mimetype": "text/x-python",
   "name": "python",
   "nbconvert_exporter": "python",
   "pygments_lexer": "ipython3",
   "version": "3.5.2"
  }
 },
 "nbformat": 4,
 "nbformat_minor": 1
}
